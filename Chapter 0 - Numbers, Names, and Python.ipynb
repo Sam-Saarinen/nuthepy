{
 "cells": [
  {
   "cell_type": "markdown",
   "metadata": {},
   "source": [
    "# The Premise of Computing\n",
    "\n",
    "Computers can do many wonderful things, and it would be impossible to summarize all of the things computing is useful for here. You've used computers any time you've gone on the internet, used apps, played games, or typed something, but computers are also being used all around you to control everything from traffic lights to fast food orders. Computers are used to predict the weather, send messages, order things, and deliver lessons.\n",
    "\n",
    "And to do all of those things, the computer needs to be told how to do them.\n",
    "\n",
    "That's what computer programming is. Telling the computer how to do something. Programs can be very simple. Let's start with the one below. In Jupyter, programs can be run (executed) by clicking on the cell, and then pressing shift+enter at the same time."
   ]
  },
  {
   "cell_type": "code",
   "execution_count": 1,
   "metadata": {},
   "outputs": [
    {
     "name": "stdout",
     "output_type": "stream",
     "text": [
      "9\n"
     ]
    }
   ],
   "source": [
    "print(9)"
   ]
  },
  {
   "cell_type": "markdown",
   "metadata": {},
   "source": [
    "What's going on here? There's a special command, \"print\" which is a part of Python's syntax.\n",
    "\n",
    "**Syntax: print**  \n",
    "`print( [something] )` tells Python to display (print/write) `[something]` on screen, whatever `[something]` is.\n",
    "\n",
    "**Recipe: Output a Value**  \n",
    "`print( [value] )` outputs the value, whatever it is.\n",
    "\n",
    "By using the syntax of Python, Python is able to understand and follow our directions. If we try to use something that isn't a part of the syntax of Python, we will get an error telling us we aren't using Python's syntax."
   ]
  },
  {
   "cell_type": "code",
   "execution_count": 31,
   "metadata": {},
   "outputs": [
    {
     "ename": "SyntaxError",
     "evalue": "invalid syntax (<ipython-input-31-a48633b536b2>, line 1)",
     "output_type": "error",
     "traceback": [
      "\u001b[1;36m  File \u001b[1;32m\"<ipython-input-31-a48633b536b2>\"\u001b[1;36m, line \u001b[1;32m1\u001b[0m\n\u001b[1;33m    solve all my problems\u001b[0m\n\u001b[1;37m            ^\u001b[0m\n\u001b[1;31mSyntaxError\u001b[0m\u001b[1;31m:\u001b[0m invalid syntax\n"
     ]
    }
   ],
   "source": [
    "solve all my problems"
   ]
  },
  {
   "cell_type": "markdown",
   "metadata": {},
   "source": [
    "But as long as we use Python's syntax, our instructions will be understood and followed. By giving Python multiple instructions in order, we can get Python to do more complicated tasks."
   ]
  },
  {
   "cell_type": "code",
   "execution_count": 32,
   "metadata": {},
   "outputs": [
    {
     "name": "stdout",
     "output_type": "stream",
     "text": [
      "18181818\n",
      "81818181\n",
      "18181818\n"
     ]
    }
   ],
   "source": [
    "print(18181818)\n",
    "print(81818181)\n",
    "print(18181818)"
   ]
  },
  {
   "cell_type": "markdown",
   "metadata": {},
   "source": [
    "To make things a little clearer, let's add some *comments* to explain what the code (program) is doing.\n",
    "\n",
    "**Syntax: Comments**  \n",
    "Anything after a `#` character in a line is completely ignored by Python. This is called a *comment*.\n",
    "\n",
    "**Recipe: Explain what a Line of Code Does**  \n",
    "Use a comment at the end of lines of code that might be confusing to explain what they do.  \n",
    "`print(18181818) # outputs a big number so that people can see it`"
   ]
  },
  {
   "cell_type": "code",
   "execution_count": 33,
   "metadata": {},
   "outputs": [
    {
     "name": "stdout",
     "output_type": "stream",
     "text": [
      "18181818\n",
      "81818181\n",
      "18181818\n"
     ]
    }
   ],
   "source": [
    "print(18181818) # outputs a big number.\n",
    "print(81818181) # outputs a bigger number.\n",
    "print(18181818) # outputs the first number again."
   ]
  },
  {
   "cell_type": "markdown",
   "metadata": {},
   "source": [
    "By using the commands Python already understands, we can tell the computer how to do new things.\n",
    "\n",
    "**Problem: Display a Pattern**  \n",
    "Can you get Python to output something that looks like this?:  \n",
    "`\n",
    "1111111111\n",
    "1000000001\n",
    "1000000001\n",
    "1000000001\n",
    "1111111111\n",
    "`"
   ]
  },
  {
   "cell_type": "code",
   "execution_count": 1,
   "metadata": {},
   "outputs": [],
   "source": [
    "# Write your own program below here:\n",
    "# You may need to use several print statements.\n",
    "\n"
   ]
  },
  {
   "cell_type": "markdown",
   "metadata": {},
   "source": [
    "In this course, we will be using computers in one of the most helpful ways: answering questions. In particular, we're going to answer questions about numbers. Numbers are some of the simplest things to ask questions about; almost everybody knows what numbers are and some of the ways we can use them. But numbers are also the source of some of the hardest questions that people have ever thought about.\n",
    "\n",
    "In fact, during this course you will try to answer some of these hard problems using what you learn. You may not be able to figure all of them out, but in the process of thinking about them, you'll learn even more and get better at both computer science and mathematics.\n",
    "\n",
    "# Natural Numbers in Python\n",
    "\n",
    "**Math: Natural Numbers**  \n",
    "The natural numbers, denoted $\\mathbb{N}$, are all the number going from $1, 2, 3, ..., \\infty$. We will denote this using *set notation* as $\\mathbb{N} = \\{1, 2, 3, ..., \\infty\\}$.\n",
    "\n",
    "**Math: Set Membership**  \n",
    "To denote that a number is a part of a set (collection) of numbers, we write $n \\in \\mathbb{S}$, where $n$ just stands for our number, and $\\mathbb{S}$ represents the set we are talking about.  For example $1 \\in \\mathbb{N}$ says that 1 is in the natural numbers.\n",
    "\n",
    "In Python, we can represent natural numbers just by typing them out. If we want to add two natural numbers, we can use the `+` sign. We can multiply them by using the `*` sign."
   ]
  },
  {
   "cell_type": "code",
   "execution_count": 2,
   "metadata": {},
   "outputs": [
    {
     "name": "stdout",
     "output_type": "stream",
     "text": [
      "5\n",
      "6\n"
     ]
    }
   ],
   "source": [
    "print( 2 + 3 ) # Python does the stuff inside the parentheses first, so this should output 5\n",
    "print( 2 * 3 ) # This should output 6"
   ]
  },
  {
   "cell_type": "markdown",
   "metadata": {},
   "source": [
    "In Python, we can also subtract numbers using the `-` sign. But this can result in negative numbers!"
   ]
  },
  {
   "cell_type": "code",
   "execution_count": 37,
   "metadata": {},
   "outputs": [
    {
     "name": "stdout",
     "output_type": "stream",
     "text": [
      "1\n",
      "-1\n",
      "111111112\n"
     ]
    }
   ],
   "source": [
    "print( 3 - 2 ) # => 1\n",
    "print( 2 - 3 ) # => -1\n",
    "print(1111111111 - 999999999)"
   ]
  },
  {
   "cell_type": "markdown",
   "metadata": {},
   "source": [
    "Negative numbers are not a part of the natural numbers (remember that $\\mathbb{N}$ starts with 1). So what are they?\n",
    "\n",
    "**Math: Integers**  \n",
    "We define the set of integers, denoted as $\\mathbb{Z}$ as the natural numbers, with 0, and also with negative versions of the natural numbers. In other words, $\\mathbb{Z}=\\{-\\infty, ..., -3, -2, -2, 0, 1, 2, 3, ..., \\infty \\}$. (By the way, the integers are labeled with a $\\mathbb{Z}$ after the german word **Z**ahlen, which means numbers.)\n",
    "\n",
    "**Math: Positive Integers**  \n",
    "We denote the strictly positive (greater than 0) integers as $\\mathbb{Z}^+$.\n",
    "\n",
    "**Memo: Positive Integers = Natural Numbers**  \n",
    "$\\mathbb{Z}^+ = {1, 2, 3, ..., \\infty} = \\mathbb{N}$\n",
    "\n",
    "Number Theory (answering questions about numbers) is mostly concerned with the natural numbers ($\\mathbb{N}$), but Python has support for other types of numbers too. For example, if we divide 3 / 2, we'll get 1.5, which isn't a natural number or even an integer. In other words, $1.5 \\notin \\mathbb{Z}$."
   ]
  },
  {
   "cell_type": "code",
   "execution_count": 41,
   "metadata": {},
   "outputs": [
    {
     "name": "stdout",
     "output_type": "stream",
     "text": [
      "1.5\n"
     ]
    }
   ],
   "source": [
    "print(3 / 2)"
   ]
  },
  {
   "cell_type": "markdown",
   "metadata": {},
   "source": [
    "But there's another notion of division (X / Y) that says, \"How many times can I fit Y into X, ignoring leftover?\" The answer should be an integer, so this is called *integer division*.\n",
    "\n",
    "**Syntax: Integer Division**  \n",
    "To do integer division in Python, use the `//` signs. Instead of producing 1.5, `3 // 2` will produce 1."
   ]
  },
  {
   "cell_type": "code",
   "execution_count": 3,
   "metadata": {},
   "outputs": [
    {
     "name": "stdout",
     "output_type": "stream",
     "text": [
      "1\n",
      "2\n",
      "0\n"
     ]
    }
   ],
   "source": [
    "print( 3 // 2 ) # Should be 1, instead of 1.5\n",
    "print( 4 // 2 ) # Should be 2, like normal\n",
    "print( 6 // 7 )"
   ]
  },
  {
   "cell_type": "markdown",
   "metadata": {},
   "source": [
    "**Syntax: Remainders**  \n",
    "If we divide `3 // 2`, we see that 2 goes into 3 once (1 time) before running out, but there's still some extra. This *remainder* can be computed easily in python using the *modulus operator*, `%`.\n",
    "\n",
    "**Math: Remainders and Integer Division**  \n",
    "For any integers X and Y, (X // Y) * Y + R = X, where R is an integer representing the remainder when X is divided by Y. In other words, the remainder is what is left over (what remains) when X is divided by Y. Another way of writing this is that $X \\% Y = R$."
   ]
  },
  {
   "cell_type": "code",
   "execution_count": 4,
   "metadata": {},
   "outputs": [
    {
     "name": "stdout",
     "output_type": "stream",
     "text": [
      "1\n",
      "2\n"
     ]
    }
   ],
   "source": [
    "print(7 % 2) # 7 // 2 is 3. 3 * 2 = 6, 1 less than 7, so the remainder is 1.\n",
    "print(11 % 3) # This is 2. "
   ]
  },
  {
   "cell_type": "markdown",
   "metadata": {},
   "source": [
    "**Problem: Modulus another Way**  \n",
    "Can you compute the remainder (what the modulus operator does) using only +, -, *, and //?\n",
    "\n",
    "# Divisibility\n",
    "\n",
    "**Math: Divisible**  \n",
    "We say that one number, X, is divisible by another, Y, denoted $X \\mid Y$, if $X \\% Y = 0$. In other words, there is no remainder when you divide X by Y.\n",
    "\n",
    "**Problem: Divisibility of 51**  \n",
    "Write a Python program that shows that 51 is divisible by 17.\n",
    "\n",
    "**Problem: Divisibility of 13**  \n",
    "Write a Python program to show that 13 is only divisible by 1 and 13."
   ]
  },
  {
   "cell_type": "markdown",
   "metadata": {},
   "source": [
    "# Computing Powers\n",
    "\n",
    "**Math: Powers**  \n",
    "Repeated multiplication of a number by itself is called *raising to a power*, and has a special notation. For example, we denote $5 \\times 5 = 5^2$, $5 \\times 5 \\times 5 = 5^3$, and $5 \\times 5 \\times 5 \\times 5 = 5^4$. Some of the small powers have special names. For example, we call $5^2$ \"five *squared*\" (2 dimensions ~ raising to the power of 2) and we call $5^3$ \"five *cubed*\" (3 dimensions ~ raising to the power of 3). For other powers, we read them as \"[number] to the [number]\". For example, $5^4$ is \"five to the four\". In these settings, the power is also called the *exponent* and the number being multiplied by itself is called the *base*.\n",
    "\n",
    "**Syntax: Powers**  \n",
    "Python has a special syntax for raising a number to a power, which uses the `**` signs. For example, `5 ** 2` means the same thing as `5 * 5`."
   ]
  },
  {
   "cell_type": "code",
   "execution_count": 9,
   "metadata": {},
   "outputs": [
    {
     "name": "stdout",
     "output_type": "stream",
     "text": [
      "125\n",
      "1024\n",
      "10715086071862673209484250490600018105614048117055336074437503883703510511249361224931983788156958581275946729175531468251871452856923140435984577574698574803934567774824230985421074605062371141877954182153046474983581941267398767559165543946077062914571196477686542167660429831652624386837205668069376\n"
     ]
    }
   ],
   "source": [
    "print( 5 ** 3 ) # Should output 25\n",
    "print( 2 ** 10 ) # Should output 2 * 2 * 2 * 2 * 2 * 2 * 2 * 2 * 2 * 2 = 1024\n",
    "print( 2 ** 1000 ) # This just shows how fast Python is."
   ]
  },
  {
   "cell_type": "markdown",
   "metadata": {},
   "source": [
    "# Names in Python\n",
    "\n",
    "What if we have a value that we want to refer to, but we don't necessarily know what it is? In Math, we refer to these values as *variables* since their value might vary (vary-able = variable). In other words, it could take a variety of values.\n",
    "\n",
    "**Math: Variables**  \n",
    "We frequently introduce letters or symbols into math to stand in for quantities that could have a variety of values. In the examples above, for example, we have used X and Y to refer to specific natural numbers. That is $X \\in \\mathbb{N}$. X could be any specific value in the natural numbers: 1, 3, 2186 ... whatever. The big idea is that no matter what X is, it has some properties that all of the natural numbers have. For example, no matter what X is, we still know that $X > -7$, since every natural number is greater than -7.\n",
    "\n",
    "**Syntax: Variables**\n",
    "In Python, there's a related concept, also called a *variable*, but it is a little bit different from math. In Python, a *variable* is a name that we use to refer to a value we have stored previously. Variables can be introduced by *assigning* values to them, and can be referenced just by using their name.\n",
    "\n",
    "**Recipe: Store Information in a Variable**\n",
    "`[variable name] = 5`. Note that `[variable name]` can be anything consisting of letters, underscores _, and numbers, (no spaces) and not starting with a number. So, \"variable_number8\" is a valid variable name, as is \"teachers_age\". Names should be easy to understand and should describe the thing they hold.\n"
   ]
  },
  {
   "cell_type": "code",
   "execution_count": 28,
   "metadata": {},
   "outputs": [
    {
     "name": "stdout",
     "output_type": "stream",
     "text": [
      "200\n",
      "200\n",
      "230\n",
      "5\n",
      "30\n",
      "30\n"
     ]
    }
   ],
   "source": [
    "x = 195 + 5\n",
    "print(x) # Prints the value that was last stored in x: 200\n",
    "y = 30\n",
    "print (x) # Prints the value that was last stored in x: 200. It doesn't change if other things happen.\n",
    "\n",
    "print(x + y) # Prints 200 + 30 = 230\n",
    "\n",
    "x = 5 # A different value can be assigned to the same variable\n",
    "print(x) # Prints the value that was last stored in x: 5\n",
    "# The old value of 200 is gone forever.\n",
    "\n",
    "x = y # Assign the value currently stored in y, which is 30\n",
    "print(x) # Prints the value that was last stored in x: 30\n",
    "\n",
    "y = 10 # Changing the value of y now doesn't change the value stored in x\n",
    "print(x) # x still stores 30.\n",
    "\n",
    "# These last two lines are just for reference. You will probably never use them.\n",
    "# del(x) # This line would \"delete\" the variable x from Python's memory. It is different than overwriting the value stored there.\n",
    "# print(x) # This would cause an error if x had been deleted."
   ]
  },
  {
   "cell_type": "code",
   "execution_count": 6,
   "metadata": {},
   "outputs": [
    {
     "name": "stdout",
     "output_type": "stream",
     "text": [
      "0\n",
      "0\n"
     ]
    }
   ],
   "source": [
    "# This program does the same computation twice - once without variables, and once with variables.\n",
    "\n",
    "print( 50 // 259 )\n",
    "\n",
    "x = 50\n",
    "y = 259\n",
    "print( x // y )"
   ]
  },
  {
   "cell_type": "markdown",
   "metadata": {},
   "source": [
    "**Problem: Use Variables**  \n",
    "Edit the program below, below the dotted line, to print the square of x + y, no matter what x and y are set to. In other words, write some commands that lead to the value of $(x + y)^2$ being output."
   ]
  },
  {
   "cell_type": "code",
   "execution_count": 5,
   "metadata": {},
   "outputs": [],
   "source": [
    "x = 20\n",
    "y = 5\n",
    "# Edit the program below this line ------------------------------------------------------\n"
   ]
  },
  {
   "cell_type": "markdown",
   "metadata": {},
   "source": [
    "# Modular Arithmetic\n",
    "\n",
    "It turns out that thinking about remainders is really useful in a variety of problems. It's so important that we call the math of remainders *Modular Arithmetic*. Let's learn a few concepts.\n",
    "\n",
    "**Math: Modular Congruence**  \n",
    "Two numbers, $x, y$ are *congruent mod n*, denoted $x \\equiv y \\mod n $, if $x \\bmod n = y \\bmod n$.  \n",
    "If $x \\equiv y \\mod n$ and $y \\equiv z \\mod n$, $x \\equiv z \\mod n$.  \n",
    "If $x \\equiv y \\mod n$, $y \\equiv x \\mod n$.  \n",
    "Also, $x \\equiv x \\mod n$.  \n",
    "The big idea is that two numbers are equivalent with respect to a third number if their remainders are the same when you divide by the third number.  \n",
    "It's a fact that every number (every integer, if you like) is congruent to a number in the set $\\{0, 1, 2, ... n-1\\}$. Let's denote this set as $\\mathbb{Z}/n$.\n",
    "\n",
    "**Problem: List Numbers in a Set**  \n",
    "List all the numbers in the set $\\mathbb{Z}/8$.\n",
    "\n",
    "**Math: Modular Addition**  \n",
    "$x + y \\equiv y + x \\mod n$.  \n",
    "$x + y \\equiv (x \\bmod n) + y \\mod n$.  \n",
    "This is just like regular addition, except that the numbers wrap around if they get too big.  10 + 3 mod 4 is equal to the remainder when you divide 13 by 4. 10 mod 4 is 2, and 3 mod 4 is 3. When you add them together, you get 5, and 5 mod 4 is 1.\n",
    "\n",
    "**Problem: Prove Modulus Distributes**\n",
    "Can you use the facts above to prove that $x + y \\equiv (x \\bmod n) + (y \\bmod n) \\mod n$?  \n",
    "\n",
    "Let's look at numbers mod 2. We'll see that we can use this as an odd/even detector."
   ]
  },
  {
   "cell_type": "code",
   "execution_count": 60,
   "metadata": {},
   "outputs": [
    {
     "name": "stdout",
     "output_type": "stream",
     "text": [
      "1\n",
      "0\n",
      "1\n",
      "0\n",
      "1\n",
      "0\n"
     ]
    }
   ],
   "source": [
    "print(1 % 2)\n",
    "print(2 % 2)\n",
    "print(3 % 2)\n",
    "print(4 % 2)\n",
    "print(5 % 2)\n",
    "print(6 % 2)"
   ]
  },
  {
   "cell_type": "markdown",
   "metadata": {},
   "source": [
    "Now suppose we have an odd number $n$.  \n",
    "$n = 1 \\mod 2$. If we have another odd number, $m = 1 \\mod 2$, and we add them together, what will the result be? According to modular arithmetic, $m + n \\equiv 0 \\mod 2$. In other words, an odd number plus an odd number is an even number!\n",
    "\n",
    "**Problem: Prove other Odd/Even Addition Properties**  \n",
    "Can you show that an odd plus an even is odd? What about an even plus an even?\n",
    "\n",
    "Modular arithmetic also has a multiplication operator, that works very similarly to multiplication on the natural numbers.\n",
    "\n",
    "**Math: Modular Multiplication**\n",
    "$x \\times y \\equiv (x\\times y \\bmod n) \\mod n$.\n",
    "\n",
    "Now let's talk about another useful modulus - mod 10. When we divide by 10 and take the remainder, what do we get?"
   ]
  },
  {
   "cell_type": "code",
   "execution_count": 61,
   "metadata": {},
   "outputs": [
    {
     "name": "stdout",
     "output_type": "stream",
     "text": [
      "1\n",
      "6\n",
      "7\n"
     ]
    }
   ],
   "source": [
    "print( 11 % 10 )\n",
    "print( 376 % 10 )\n",
    "print( 7 % 10 )"
   ]
  },
  {
   "cell_type": "markdown",
   "metadata": {},
   "source": [
    "In every case, it's just the last digit of the number! So if we multiply a number by itself many times (raising it to a power), and then take its remainder mod 10, that will give us a series of last digits. For example, consider the first few powers of 7."
   ]
  },
  {
   "cell_type": "code",
   "execution_count": 62,
   "metadata": {},
   "outputs": [
    {
     "name": "stdout",
     "output_type": "stream",
     "text": [
      "7\n",
      "49\n",
      "343\n",
      "2401\n",
      "16807\n",
      "117649\n",
      "823543\n",
      "5764801\n"
     ]
    }
   ],
   "source": [
    "print( 7 ** 1 )\n",
    "print( 7 ** 2 )\n",
    "print( 7 ** 3 )\n",
    "print( 7 ** 4 )\n",
    "print( 7 ** 5 )\n",
    "print( 7 ** 6 )\n",
    "print( 7 ** 7 )\n",
    "print( 7 ** 8 )"
   ]
  },
  {
   "cell_type": "code",
   "execution_count": 63,
   "metadata": {},
   "outputs": [
    {
     "name": "stdout",
     "output_type": "stream",
     "text": [
      "7\n",
      "9\n",
      "3\n",
      "1\n",
      "7\n",
      "9\n",
      "3\n",
      "1\n"
     ]
    }
   ],
   "source": [
    "print( 7 ** 1 % 10 )\n",
    "print( 7 ** 2 % 10 )\n",
    "print( 7 ** 3 % 10 )\n",
    "print( 7 ** 4 % 10 )\n",
    "print( 7 ** 5 % 10 )\n",
    "print( 7 ** 6 % 10 )\n",
    "print( 7 ** 7 % 10 )\n",
    "print( 7 ** 8 % 10 )"
   ]
  },
  {
   "cell_type": "markdown",
   "metadata": {},
   "source": [
    "Do you notice anything? The numbers appear to repeat themselves. This is easy to understand if we use modular arithmetic.\n",
    "\n",
    "$7 \\equiv 7 \\mod 10$  \n",
    "$7 \\times 7 \\equiv 49 \\equiv 9 \\mod 10$  \n",
    "$9 \\times 7 \\equiv 63 \\equiv 3 \\mod 10$  \n",
    "$3 \\times 7 \\equiv 21 \\equiv 1 \\mod 10$  \n",
    "$1 \\times 7 \\equiv 7 \\mod 10$  \n",
    "\n",
    "In fact, any number times itself many times will produce a similar sequence of last digits. And because all numbers are equivalent to a number between $0$ and $9$ $\\bmod 10$, we only have to look at those numbers to figure out how the last digit changes for any number. To demonstrate, because $102397 \\equiv 7 \\mod 10$, we already know its sequence of final digits!"
   ]
  },
  {
   "cell_type": "code",
   "execution_count": 64,
   "metadata": {},
   "outputs": [
    {
     "name": "stdout",
     "output_type": "stream",
     "text": [
      "102397\n",
      "10485145609\n",
      "1073647454924773\n",
      "109938278441931980881\n",
      "11257349897618509046271757\n",
      "1152718857466442470811089101529\n",
      "118034952847991309683643090729265013\n",
      "12086425066775766137676001561404549536161\n"
     ]
    }
   ],
   "source": [
    "print( 102397 ** 1 )\n",
    "print( 102397 ** 2 )\n",
    "print( 102397 ** 3 )\n",
    "print( 102397 ** 4 )\n",
    "print( 102397 ** 5 )\n",
    "print( 102397 ** 6 )\n",
    "print( 102397 ** 7 )\n",
    "print( 102397 ** 8 )"
   ]
  },
  {
   "cell_type": "code",
   "execution_count": 65,
   "metadata": {},
   "outputs": [
    {
     "name": "stdout",
     "output_type": "stream",
     "text": [
      "7\n",
      "9\n",
      "3\n",
      "1\n",
      "7\n",
      "9\n",
      "3\n",
      "1\n"
     ]
    }
   ],
   "source": [
    "print( 102397 ** 1 % 10 )\n",
    "print( 102397 ** 2 % 10 )\n",
    "print( 102397 ** 3 % 10 )\n",
    "print( 102397 ** 4 % 10 )\n",
    "print( 102397 ** 5 % 10 )\n",
    "print( 102397 ** 6 % 10 )\n",
    "print( 102397 ** 7 % 10 )\n",
    "print( 102397 ** 8 % 10 )"
   ]
  },
  {
   "cell_type": "markdown",
   "metadata": {},
   "source": [
    "**Problem: Last Digit Sequences**  \n",
    "Find the Last Digit Sequence for All 1-Digit Numbers.\n",
    "\n",
    "**Math: Modular Subtraction**\n",
    "Subtraction is basically the same as addition in modular arithmetic, but the result is always positive. To make it easier to see, let's define subtraction this way $x - y \\equiv x + (n - y) \\mod n$. So one way of thinking about it is that subtraction is the same as addition by a (possibly different) number.\n",
    "\n",
    "Now we come to a tricky bit. In the natural numbers, division could mean different things. Remember the difference between `/` and `//`? What does it mean in modular arithmetic? Well, it's basically the opposite of multiplication. Where does that get us? We'll come back to this in a future chapter, after we've talked more about primes and factorization.\n",
    "\n",
    "**Problem: Modular Division**  \n",
    "Come up with a definition of division that makes sense in modular arithmetic."
   ]
  },
  {
   "cell_type": "markdown",
   "metadata": {},
   "source": [
    "# Homework (1 Week)\n",
    "There are ten problems above, but most of them are pretty easy. Do them all over the course of a week. Reach out in the course chat if you get stuck on anything or have any questions."
   ]
  },
  {
   "cell_type": "code",
   "execution_count": null,
   "metadata": {
    "collapsed": true
   },
   "outputs": [],
   "source": []
  }
 ],
 "metadata": {
  "kernelspec": {
   "display_name": "Python 3",
   "language": "python",
   "name": "python3"
  },
  "language_info": {
   "codemirror_mode": {
    "name": "ipython",
    "version": 3
   },
   "file_extension": ".py",
   "mimetype": "text/x-python",
   "name": "python",
   "nbconvert_exporter": "python",
   "pygments_lexer": "ipython3",
   "version": "3.6.3"
  }
 },
 "nbformat": 4,
 "nbformat_minor": 2
}

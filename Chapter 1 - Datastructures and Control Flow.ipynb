{
 "cells": [
  {
   "cell_type": "markdown",
   "metadata": {},
   "source": [
    "# Lists\n",
    "\n",
    "Sometimes, we want to store multiple types of the same information. For example, we have learned that numbers of the form $n^2$ are called _square numbers_. If we wanted to compute square numbers and use them for something, we could create a new variable for each of them, like this:"
   ]
  },
  {
   "cell_type": "code",
   "execution_count": 1,
   "metadata": {},
   "outputs": [
    {
     "name": "stdout",
     "output_type": "stream",
     "text": [
      "1 4 9\n"
     ]
    }
   ],
   "source": [
    "square_1 = 1**2\n",
    "square_2 = 2**2\n",
    "square_3 = 3**2\n",
    "print(square_1, square_2, square_3)"
   ]
  },
  {
   "cell_type": "markdown",
   "metadata": {},
   "source": [
    "But that's not very convenient. If we wanted to store 10 square numbers, we'd have to create 10 variables! Fortunately, Python has syntax that allows us to store a _list_ of values."
   ]
  },
  {
   "cell_type": "code",
   "execution_count": 2,
   "metadata": {},
   "outputs": [
    {
     "name": "stdout",
     "output_type": "stream",
     "text": [
      "[1, 4, 9, 16, 25]\n"
     ]
    }
   ],
   "source": [
    "square_numbers = [1**2, 2**2, 3**2, 4**2, 5**2]\n",
    "print(square_numbers)"
   ]
  },
  {
   "cell_type": "markdown",
   "metadata": {},
   "source": [
    "This is great, and there's a lot we can do with it!\n",
    "\n",
    "**Syntax: Lists**  \n",
    "In Python, a list can be created by using the square brackets [ and ], putting values in between, separated by commas.\n",
    "`some_list = [ value1, value2, value3, value4]`\n",
    "\n",
    "**Recipe: Print Multiple Pieces of Information**  \n",
    "There are two ways to do this in Python. One way is to separate the information by commas inside the print statement.\n",
    "`print(value1, value2, value3)`. The other way is to create a list `some_list=[value1, value2, value3]` and then to print the list `print(some_list)`.\n",
    "\n",
    "A really common need in to make a list of numbers going from 0, 1, .... n-1. This is so common that Python has a special syntax for it.\n",
    "\n",
    "**Syntax: Range**  \n",
    "`range(n)` produces a sequence starting from 0 and going to n-1. To turn this into a list, use the `list` command, which is also a part of Python's syntax. `list(range(3))` is `[0, 1, 2]`, for example."
   ]
  },
  {
   "cell_type": "code",
   "execution_count": 1,
   "metadata": {},
   "outputs": [
    {
     "name": "stdout",
     "output_type": "stream",
     "text": [
      "[0, 1, 2, 3, 4, 5, 6, 7, 8, 9]\n",
      "[0, 1, 2, 3, 777, 5, 6, 7]\n"
     ]
    }
   ],
   "source": [
    "numbers = list(range(10))\n",
    "print(numbers)\n",
    "\n",
    "number=(list(range(8)))\n",
    "number[4]=777\n",
    "print(number)"
   ]
  },
  {
   "cell_type": "markdown",
   "metadata": {},
   "source": [
    "Note that this only goes from 0 to 9! It makes 10 numbers, but remember that counting in computer science starts at 0!\n",
    "\n",
    "Now in order to make the most of lists, we need to be able to store and use data from them. We've already seen how to store the whole list, but what if we just want to change part of it?\n",
    "\n",
    "**Syntax: List Access**  \n",
    "`some_list[n]` is the element (data) with n elements before it."
   ]
  },
  {
   "cell_type": "code",
   "execution_count": 2,
   "metadata": {},
   "outputs": [
    {
     "name": "stdout",
     "output_type": "stream",
     "text": [
      "[0, 1, 2, 3, 4, 5, 6, 7, 8, 9]\n",
      "[0, 1, 2, 3, 4, 999, 6, 7, 8, 9]\n"
     ]
    }
   ],
   "source": [
    "numbers = list(range(10))\n",
    "print(numbers)\n",
    "numbers[5] = 999\n",
    "print(numbers)"
   ]
  },
  {
   "cell_type": "markdown",
   "metadata": {},
   "source": [
    "**Problem: Editing a list**  \n",
    "Create a list going from 0 to 99, and set the element with 23 elements before it to 3000."
   ]
  },
  {
   "cell_type": "code",
   "execution_count": 2,
   "metadata": {},
   "outputs": [],
   "source": [
    "# Type your code here. Finish by printing the list.\n",
    "\n"
   ]
  },
  {
   "cell_type": "markdown",
   "metadata": {},
   "source": [
    "There are a few more list properties to learn.\n",
    "\n",
    "**Syntax: len**  \n",
    "`len(some_list)` gives the length (number of values/elements) in `some_list`.\n",
    "\n",
    "**Syntax: append**  \n",
    "`some_list.append(value)` adds a value to the end of the list. For example, `list(range(5)).append(999)` is `[0, 1, 2, 3, 4, 999]`.\n",
    "\n",
    "**Syntax: reversed**  \n",
    "Gives the result of reading the list backwards. `list(reversed([0, 1, 2]))` is `[2, 1, 0]`.\n",
    "\n",
    "Now that we have these properties, we can add elements to lists and then see how many we have. Let's make a list of powers of two, as an example."
   ]
  },
  {
   "cell_type": "code",
   "execution_count": 6,
   "metadata": {},
   "outputs": [
    {
     "name": "stdout",
     "output_type": "stream",
     "text": [
      "[8, 4, 2, 1]\n",
      "[1, 2, 4, 8]\n",
      "4\n"
     ]
    }
   ],
   "source": [
    "powers_of_two = []\n",
    "powers_of_two.append(2 ** 0) # This is actually 1.\n",
    "powers_of_two.append(2 ** 1) \n",
    "powers_of_two.append(2 ** 2)\n",
    "powers_of_two.append(2 ** 3)\n",
    "print(list(reversed(powers_of_two))) # Prints the list, but backwards\n",
    "print(powers_of_two) # Printing it backwards didn't change the original list.\n",
    "print(len(powers_of_two)) # Outputs the length of the list."
   ]
  },
  {
   "cell_type": "markdown",
   "metadata": {},
   "source": [
    "This is pretty neat, but what if we want to do something to every value in the list? Would we have to set every value by hand? For example,  \n",
    "`list[0] = 5\n",
    "list[1] = 5\n",
    "list[2] = 5\n",
    "`  \n",
    "?\n",
    "\n",
    "It turns out that Python has a very nice way of repeating actions for every element in a list, called a _for loop_.\n",
    "\n",
    "**Syntax: For Loops**  \n",
    "`for x in range(n):\n",
    "    some_list[x] = 5\n",
    "`  \n",
    "sets `some_list[x]` to 5 for every value of x from 0, 1, 2, 3, all the way up to n.\n",
    "\n",
    "**Recipe: Set Every Element in a List**  \n",
    "`for x in range(len(some_list)):\n",
    "    some_list[x] = 5\n",
    "`  \n",
    "\n",
    "Let's use this to create a list of square numbers, but much faster."
   ]
  },
  {
   "cell_type": "code",
   "execution_count": 7,
   "metadata": {},
   "outputs": [
    {
     "name": "stdout",
     "output_type": "stream",
     "text": [
      "[0, 1, 4, 9, 16, 25, 36, 49, 64, 81]\n"
     ]
    }
   ],
   "source": [
    "square_numbers = []\n",
    "for x in range(10):\n",
    "    square_numbers.append(x**2)\n",
    "\n",
    "print(square_numbers)"
   ]
  },
  {
   "cell_type": "markdown",
   "metadata": {},
   "source": [
    "**Problem: Powers of Two, the Fast Way**  \n",
    "Using the example above and what you learned about list(reversed( )), create a list of the first 30 powers of two, in decreasing order."
   ]
  },
  {
   "cell_type": "code",
   "execution_count": 8,
   "metadata": {
    "collapsed": true
   },
   "outputs": [],
   "source": [
    "# Write some code beneath this line to create a list of the first 30 powers of two.\n"
   ]
  },
  {
   "cell_type": "markdown",
   "metadata": {},
   "source": [
    "**Math: Sequences**  \n",
    "A sequence $S=[S_1, S_2, ...]$ is an ordered collection of (possibly repeating) elements. For example, the sequence of positive even numbers $E = [2, 4, 6, 8, 10, 12 ...]$. Finite sequences (sequences that have an end) can be represented as lists in Python.\n",
    "\n",
    "**Problem: Are there More Even Numbers or Odd Numbers?**  \n",
    "Support your answer with evidence.\n",
    "\n",
    "**Recipe: Adding to a Number and Storing the Result**  \n",
    "\n",
    "**Recipe: Add a List of Numbers**  \n"
   ]
  },
  {
   "cell_type": "code",
   "execution_count": null,
   "metadata": {
    "collapsed": true
   },
   "outputs": [],
   "source": []
  },
  {
   "cell_type": "markdown",
   "metadata": {},
   "source": [
    "**Math: Binary Numbers**  \n",
    "TODO"
   ]
  },
  {
   "cell_type": "code",
   "execution_count": 9,
   "metadata": {},
   "outputs": [
    {
     "name": "stdout",
     "output_type": "stream",
     "text": [
      "8\n"
     ]
    }
   ],
   "source": [
    "binary_number = [1, 0, 0, 0]\n",
    "reversed_binary_number = list(reversed(binary_number))\n",
    "total_number = 0\n",
    "for x in range(len(reversed_binary_number)):\n",
    "    total_number = total_number + reversed_binary_number[x] * 2**x\n",
    "\n",
    "print(total_number)"
   ]
  },
  {
   "cell_type": "markdown",
   "metadata": {},
   "source": [
    "**Recipe: Make Loops of Loops**  \n",
    "Python supports creating loops that have loops inside of them. For example, look at the following cell, which will create a list of a certain length, print it, multiply all the values by 2, and then print the list."
   ]
  },
  {
   "cell_type": "code",
   "execution_count": 3,
   "metadata": {},
   "outputs": [
    {
     "name": "stdout",
     "output_type": "stream",
     "text": [
      "[]\n",
      "[]\n",
      "[0]\n",
      "[0]\n",
      "[0, 1]\n",
      "[0, 2]\n",
      "[0, 1, 2]\n",
      "[0, 2, 4]\n",
      "[0, 1, 2, 3]\n",
      "[0, 2, 4, 6]\n",
      "[0, 1, 2, 3, 4]\n",
      "[0, 2, 4, 6, 8]\n",
      "[0, 1, 2, 3, 4, 5]\n",
      "[0, 2, 4, 6, 8, 10]\n",
      "[0, 1, 2, 3, 4, 5, 6]\n",
      "[0, 2, 4, 6, 8, 10, 12]\n",
      "[0, 1, 2, 3, 4, 5, 6, 7]\n",
      "[0, 2, 4, 6, 8, 10, 12, 14]\n",
      "[0, 1, 2, 3, 4, 5, 6, 7, 8]\n",
      "[0, 2, 4, 6, 8, 10, 12, 14, 16]\n"
     ]
    }
   ],
   "source": [
    "for list_length in range(10):\n",
    "    start_list = list(range(list_length))\n",
    "    print(start_list)\n",
    "    for index in range(len(start_list)):\n",
    "        start_list[index] = start_list[index] * 2\n",
    "    print(start_list)"
   ]
  },
  {
   "cell_type": "markdown",
   "metadata": {
    "collapsed": true
   },
   "source": [
    "**Problem: Count in Binary**  \n",
    "Use what we've just learned to print out the binary representations of the numbers 1 through 30."
   ]
  },
  {
   "cell_type": "code",
   "execution_count": null,
   "metadata": {
    "collapsed": true
   },
   "outputs": [],
   "source": [
    "# Write your code here:\n"
   ]
  },
  {
   "cell_type": "markdown",
   "metadata": {},
   "source": [
    "# Howework (First Week)\n",
    "Complete the problems named above this cell. There are 3 of them. In addition, you may find it helpful to try out some different programs using lists. Modify the examples in these notes and see what they do!\n",
    "\n",
    "(If you are having trouble finding the 3 problems, try clicking anywhere on the notebook and pressing Ctrl+F. In most computer programs, this helps you find ([F]ind) matching text. You can type in \"Problem\" and go to each place that word appears.)"
   ]
  },
  {
   "cell_type": "markdown",
   "metadata": {},
   "source": [
    "## UNDER CONSTRUCTION - NOT FINISHED\n",
    "### PLEASE IGNORE ALL NOTES BELOW THIS HEADING\n",
    "\n",
    "**Syntax: If Statements**  \n",
    "TODO\n",
    "\n",
    "**Syntax: While Loops**  \n",
    "\n",
    "**Recipe: Infinite Loops**  \n",
    "\n",
    "\n",
    "**Problem: Convert a Number to Binary**  \n",
    "Write a short program that takes a number as input and outputs a list of binary digits in reading (largest to smallest) order. This can use any of the techniques we have covered before, including powers, if-statements, and modular arithmetic."
   ]
  },
  {
   "cell_type": "markdown",
   "metadata": {},
   "source": [
    "**Math: Prime Numbers**  \n",
    "\n",
    "**Math: Prime Testing**  \n",
    "\n",
    "**Math: The Fundamental Theorem of Arithmetic**  \n",
    "\n",
    "**Math: Prime Sieves**  \n",
    "\n",
    "**Math: Prime Factorization**  "
   ]
  },
  {
   "cell_type": "markdown",
   "metadata": {},
   "source": [
    "**Syntax: Dictionaries**  \n",
    "\n",
    "**Recipe: Iterate over Dictionaries**  \n",
    "\n",
    "Multiply factors\n",
    "\n",
    "Multiply two factored representations\n",
    "\n",
    "Prime Factorization Algorithms"
   ]
  }
 ],
 "metadata": {
  "kernelspec": {
   "display_name": "Python 3",
   "language": "python",
   "name": "python3"
  },
  "language_info": {
   "codemirror_mode": {
    "name": "ipython",
    "version": 3
   },
   "file_extension": ".py",
   "mimetype": "text/x-python",
   "name": "python",
   "nbconvert_exporter": "python",
   "pygments_lexer": "ipython3",
   "version": "3.6.3"
  }
 },
 "nbformat": 4,
 "nbformat_minor": 2
}

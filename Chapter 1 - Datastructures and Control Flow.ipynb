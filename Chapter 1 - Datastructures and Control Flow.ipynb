{
 "cells": [
  {
   "cell_type": "markdown",
   "metadata": {},
   "source": [
    "# Lists\n",
    "\n",
    "Sometimes, we want to store multiple types of the same information. For example, we have learned that numbers of the form $n^2$ are called _square numbers_. If we wanted to compute square numbers and use them for something, we could create a new variable for each of them, like this:"
   ]
  },
  {
   "cell_type": "code",
   "execution_count": 1,
   "metadata": {},
   "outputs": [
    {
     "name": "stdout",
     "output_type": "stream",
     "text": [
      "1 4 9\n"
     ]
    }
   ],
   "source": [
    "square_1 = 1**2\n",
    "square_2 = 2**2\n",
    "square_3 = 3**2\n",
    "print(square_1, square_2, square_3)"
   ]
  },
  {
   "cell_type": "markdown",
   "metadata": {},
   "source": [
    "But that's not very convenient. If we wanted to store 10 square numbers, we'd have to create 10 variables! Fortunately, Python has syntax that allows us to store a _list_ of values."
   ]
  },
  {
   "cell_type": "code",
   "execution_count": 2,
   "metadata": {},
   "outputs": [
    {
     "name": "stdout",
     "output_type": "stream",
     "text": [
      "[1, 4, 9, 16, 25]\n"
     ]
    }
   ],
   "source": [
    "square_numbers = [1**2, 2**2, 3**2, 4**2, 5**2]\n",
    "print(square_numbers)"
   ]
  },
  {
   "cell_type": "markdown",
   "metadata": {},
   "source": [
    "This is great, and there's a lot we can do with it!\n",
    "\n",
    "**Syntax: Lists**  \n",
    "In Python, a list can be created by using the square brackets [ and ], putting values in between, separated by commas.\n",
    "`some_list = [ value1, value2, value3, value4]`\n",
    "\n",
    "**Recipe: Print Multiple Pieces of Information**  \n",
    "There are two ways to do this in Python. One way is to separate the information by commas inside the print statement.\n",
    "`print(value1, value2, value3)`. The other way is to create a list `some_list=[value1, value2, value3]` and then to print the list `print(some_list)`.\n",
    "\n",
    "A really common need in to make a list of numbers going from 0, 1, .... n-1. This is so common that Python has a special syntax for it.\n",
    "\n",
    "**Syntax: Range**  \n",
    "`range(n)` produces a sequence starting from 0 and going to n-1. To turn this into a list, use the `list` command, which is also a part of Python's syntax. `list(range(3))` is `[0, 1, 2]`, for example."
   ]
  },
  {
   "cell_type": "code",
   "execution_count": 1,
   "metadata": {},
   "outputs": [
    {
     "name": "stdout",
     "output_type": "stream",
     "text": [
      "[0, 1, 2, 3, 4, 5, 6, 7, 8, 9]\n",
      "[0, 1, 2, 3, 777, 5, 6, 7]\n"
     ]
    }
   ],
   "source": [
    "numbers = list(range(10))\n",
    "print(numbers)\n",
    "\n",
    "number=(list(range(8)))\n",
    "number[4]=777\n",
    "print(number)"
   ]
  },
  {
   "cell_type": "markdown",
   "metadata": {},
   "source": [
    "Note that this only goes from 0 to 9! It makes 10 numbers, but remember that counting in computer science starts at 0!\n",
    "\n",
    "Now in order to make the most of lists, we need to be able to store and use data from them. We've already seen how to store the whole list, but what if we just want to change part of it?\n",
    "\n",
    "**Syntax: List Access**  \n",
    "`some_list[n]` is the element (data) with n elements before it."
   ]
  },
  {
   "cell_type": "code",
   "execution_count": 2,
   "metadata": {},
   "outputs": [
    {
     "name": "stdout",
     "output_type": "stream",
     "text": [
      "[0, 1, 2, 3, 4, 5, 6, 7, 8, 9]\n",
      "[0, 1, 2, 3, 4, 999, 6, 7, 8, 9]\n"
     ]
    }
   ],
   "source": [
    "numbers = list(range(10))\n",
    "print(numbers)\n",
    "numbers[5] = 999\n",
    "print(numbers)"
   ]
  },
  {
   "cell_type": "markdown",
   "metadata": {},
   "source": [
    "**Problem: Editing a list**  \n",
    "Create a list going from 0 to 99, and set the element with 23 elements before it to 3000."
   ]
  },
  {
   "cell_type": "code",
   "execution_count": 2,
   "metadata": {
    "collapsed": true
   },
   "outputs": [],
   "source": [
    "# Type your code here. Finish by printing the list.\n",
    "\n"
   ]
  },
  {
   "cell_type": "markdown",
   "metadata": {},
   "source": [
    "There are a few more list properties to learn.\n",
    "\n",
    "**Syntax: len**  \n",
    "`len(some_list)` gives the length (number of values/elements) in `some_list`.\n",
    "\n",
    "**Syntax: append**  \n",
    "`some_list.append(value)` adds a value to the end of the list. For example, `list(range(5)).append(999)` is `[0, 1, 2, 3, 4, 999]`.\n",
    "\n",
    "**Syntax: reversed**  \n",
    "Gives the result of reading the list backwards. `list(reversed([0, 1, 2]))` is `[2, 1, 0]`.\n",
    "\n",
    "Now that we have these properties, we can add elements to lists and then see how many we have. Let's make a list of powers of two, as an example."
   ]
  },
  {
   "cell_type": "code",
   "execution_count": 6,
   "metadata": {},
   "outputs": [
    {
     "name": "stdout",
     "output_type": "stream",
     "text": [
      "[8, 4, 2, 1]\n",
      "[1, 2, 4, 8]\n",
      "4\n"
     ]
    }
   ],
   "source": [
    "powers_of_two = []\n",
    "powers_of_two.append(2 ** 0) # This is actually 1.\n",
    "powers_of_two.append(2 ** 1) \n",
    "powers_of_two.append(2 ** 2)\n",
    "powers_of_two.append(2 ** 3)\n",
    "print(list(reversed(powers_of_two))) # Prints the list, but backwards\n",
    "print(powers_of_two) # Printing it backwards didn't change the original list.\n",
    "print(len(powers_of_two)) # Outputs the length of the list."
   ]
  },
  {
   "cell_type": "markdown",
   "metadata": {},
   "source": [
    "This is pretty neat, but what if we want to do something to every value in the list? Would we have to set every value by hand? For example,  \n",
    "`list[0] = 5\n",
    "list[1] = 5\n",
    "list[2] = 5\n",
    "`  \n",
    "?\n",
    "\n",
    "It turns out that Python has a very nice way of repeating actions for every element in a list, called a _for loop_.\n",
    "\n",
    "**Syntax: For Loops**  \n",
    "`for x in range(n):\n",
    "    some_list[x] = 5\n",
    "`  \n",
    "sets `some_list[x]` to 5 for every value of x from 0, 1, 2, 3, all the way up to n.\n",
    "\n",
    "**Recipe: Set Every Element in a List**  \n",
    "`for x in range(len(some_list)):\n",
    "    some_list[x] = 5\n",
    "`  \n",
    "\n",
    "Let's use this to create a list of square numbers, but much faster."
   ]
  },
  {
   "cell_type": "code",
   "execution_count": 3,
   "metadata": {},
   "outputs": [
    {
     "name": "stdout",
     "output_type": "stream",
     "text": [
      "[0, 1, 4, 9, 16, 25, 36, 49, 64, 81]\n"
     ]
    }
   ],
   "source": [
    "square_numbers = []\n",
    "for x in range(10):\n",
    "    square_numbers.append(x**2)\n",
    "\n",
    "print(square_numbers)"
   ]
  },
  {
   "cell_type": "markdown",
   "metadata": {},
   "source": [
    "**Problem: Powers of Two, the Fast Way**  \n",
    "Using the example above and what you learned about list(reversed( )), create a list of the first 30 powers of two, in decreasing order."
   ]
  },
  {
   "cell_type": "code",
   "execution_count": 8,
   "metadata": {
    "collapsed": true
   },
   "outputs": [],
   "source": [
    "# Write some code beneath this line to create a list of the first 30 powers of two.\n"
   ]
  },
  {
   "cell_type": "markdown",
   "metadata": {},
   "source": [
    "**Math: Sequences**  \n",
    "A sequence $S=[S_1, S_2, ...]$ is an ordered collection of (possibly repeating) elements. For example, the sequence of positive even numbers $E = [2, 4, 6, 8, 10, 12 ...]$. Finite sequences (sequences that have an end) can be represented as lists in Python.\n",
    "\n",
    "**Problem: Are there More Even Numbers or Odd Numbers?**  \n",
    "Support your answer with evidence.\n",
    "\n",
    "**Recipe: Adding to a Number and Storing the Result**  \n",
    "`[variable name] = [variable name] + [number]`  \n",
    "For example:  \n",
    "`count = count + 1`  \n",
    "\n",
    "**Recipe: Add a List of Numbers**  \n",
    "`numbers = [1, 8, 4, 5]\n",
    "sum_of_numbers = 0\n",
    "for index in range(len(numbers):\n",
    "    sum_of_numbers = sum_of_numbers + numbers[index]\n",
    "print(sum_of_numbers)`  \n",
    "This can also be accomplished with a special command in Python, called sum.  \n",
    "`sum_of_numbers = sum(numbers)`"
   ]
  },
  {
   "cell_type": "markdown",
   "metadata": {},
   "source": [
    "**Math: Binary Numbers**  \n",
    "Every number can be expressed as a sum of powers of 2. For example, $10 = 2^3 + 2^1$.  \n",
    "$27 = 2^4 + 2^3 + 2^1 + 2^0$. We can write each number as a sequence of zeros and ones, depending on whether we include each term in a sum.  \n",
    "For example, $27 = 1 \\times 2^4 + 1 \\times 2^3 + 0 \\times 2^2 + 1 \\times 2^1 + 1 \\times 2^0 = 11011_2$.\n",
    "These are called _binary numbers_, and they are very useful for two reasons. First, because all computers do math using binary numbers (using the binary representation of numbers), and second, because many problems can be broken down into smaller pieces, and breaking them into two pieces at a time is the simplest way to do it. We'll see more about that later."
   ]
  },
  {
   "cell_type": "code",
   "execution_count": 9,
   "metadata": {},
   "outputs": [
    {
     "name": "stdout",
     "output_type": "stream",
     "text": [
      "8\n"
     ]
    }
   ],
   "source": [
    "binary_number = [1, 0, 0, 0]\n",
    "reversed_binary_number = list(reversed(binary_number))\n",
    "total_number = 0\n",
    "for x in range(len(reversed_binary_number)):\n",
    "    total_number = total_number + reversed_binary_number[x] * 2**x\n",
    "\n",
    "print(total_number)"
   ]
  },
  {
   "cell_type": "markdown",
   "metadata": {},
   "source": [
    "**Recipe: Make Loops of Loops**  \n",
    "Python supports creating loops that have loops inside of them. For example, look at the following cell, which will create a list of a certain length, print it, multiply all the values by 2, and then print the list."
   ]
  },
  {
   "cell_type": "code",
   "execution_count": 3,
   "metadata": {},
   "outputs": [
    {
     "name": "stdout",
     "output_type": "stream",
     "text": [
      "[]\n",
      "[]\n",
      "[0]\n",
      "[0]\n",
      "[0, 1]\n",
      "[0, 2]\n",
      "[0, 1, 2]\n",
      "[0, 2, 4]\n",
      "[0, 1, 2, 3]\n",
      "[0, 2, 4, 6]\n",
      "[0, 1, 2, 3, 4]\n",
      "[0, 2, 4, 6, 8]\n",
      "[0, 1, 2, 3, 4, 5]\n",
      "[0, 2, 4, 6, 8, 10]\n",
      "[0, 1, 2, 3, 4, 5, 6]\n",
      "[0, 2, 4, 6, 8, 10, 12]\n",
      "[0, 1, 2, 3, 4, 5, 6, 7]\n",
      "[0, 2, 4, 6, 8, 10, 12, 14]\n",
      "[0, 1, 2, 3, 4, 5, 6, 7, 8]\n",
      "[0, 2, 4, 6, 8, 10, 12, 14, 16]\n"
     ]
    }
   ],
   "source": [
    "for list_length in range(10):\n",
    "    start_list = list(range(list_length))\n",
    "    print(start_list)\n",
    "    for index in range(len(start_list)):\n",
    "        start_list[index] = start_list[index] * 2\n",
    "    print(start_list)"
   ]
  },
  {
   "cell_type": "markdown",
   "metadata": {
    "collapsed": true
   },
   "source": [
    "**Problem: Count in Binary**  \n",
    "Use what we've just learned to print out the binary representations of the numbers 1 through 30."
   ]
  },
  {
   "cell_type": "code",
   "execution_count": null,
   "metadata": {
    "collapsed": true
   },
   "outputs": [],
   "source": [
    "# Write your code here:\n"
   ]
  },
  {
   "cell_type": "markdown",
   "metadata": {},
   "source": [
    "# Howework (First Week)\n",
    "Complete the problems named above this cell. There are 4 of them. In addition, you may find it helpful to try out some different programs using lists. Modify the examples in these notes and see what they do!\n",
    "\n",
    "(If you are having trouble finding the 3 problems, try clicking anywhere on the notebook and pressing Ctrl+F. In most computer programs, this helps you find ([F]ind) matching text. You can type in \"Problem\" and go to each place that word appears.)"
   ]
  },
  {
   "cell_type": "markdown",
   "metadata": {},
   "source": [
    "# Part 2\n",
    "\n",
    "**Syntax: If Statements**  \n",
    "What if we want our program to do something that depends on a variable? For example, what if we want to prevent dividing by zero, or we want to add one to a number only if it is odd? Python has syntax for doing exactly that, called an _if statement_.  \n",
    "` if [condition] :\n",
    "    [This code runs if condition is true.]\n",
    "    [This code can have multiple lines.]\n",
    "else:\n",
    "    [This code runs if the condition isn't true.]\n",
    "    [This code can have multiple lines.]\n",
    "`  \n",
    "Python is able to understand statements like `3 < 5` or `5 <= 3` (is 5 less than or equal to 3) and decide if they are True or False.\n",
    "\n",
    "**Syntax: While Loops**  \n",
    "Similar to _if statements_, _while loops_ use a condition (something that can be True or False) to decide what code to run. Before the loop starts, Python checks if the condition is True. If it is, it runs the code inside the loop. (If it isn't True, Python just skips it.) But then Python checks the condition again. If it is still True, Python runs the code inside the loop. Then it checks the condition again ... It will keep checking the condition and running the code until the condition is False.  \n",
    "`while [condition]:  \n",
    "    [This code is repeated as long as (while) the condition is True.]  \n",
    "    [The code can have multiple lines.]\n",
    "`\n",
    "\n",
    "**Recipe: Infinite Loops**  \n",
    "Want something to keep repeating forever? Just make sure the condition is always True. This is called an _infinite loop_.  \n",
    "`while True:\n",
    "    [This code repeats forever.]\n",
    "`  \n",
    "This could also be made this way:  \n",
    "`while 1 > 0:\n",
    "    [This code repeats forever.]\n",
    "`\n",
    "\n",
    "**Problem: Convert a Number to Binary**  \n",
    "Write a short program that takes a number as input and outputs a list of binary digits in reading (largest to smallest) order. This can use any of the techniques we have covered before, including powers, if-statements, and modular arithmetic."
   ]
  },
  {
   "cell_type": "code",
   "execution_count": null,
   "metadata": {
    "collapsed": true
   },
   "outputs": [],
   "source": [
    "# Use the ideas above to write a program that takes a regular number and outputs a list of binary digits.\n",
    "# One strategy is to loop over increasing powers of 2, and then set the appropriate digit.\n",
    "input_number = 100\n",
    "digits = []\n",
    "power = 1\n",
    "while 2**power <= input_number:\n",
    "    # Write your code here:\n",
    "    # ...\n",
    "    \n",
    "    \n",
    "    power = power + 1\n",
    "print(list(reversed(digits)))"
   ]
  },
  {
   "cell_type": "markdown",
   "metadata": {},
   "source": [
    "# Prime Numbers and Factorization\n",
    "\n",
    "**Math: Prime Numbers**  \n",
    "There are numbers that are only divisible by 1 and themselves. For example, we have already seen that 13 is only divisible by 1 and 13. These numbers are called _prime numbers_ prime numbers are very important, because we can (uniquely) express every number greater than 1 as a product (multiplication) of prime numbers. This gives the numbers a kind of \"fingerprint\" that we can use to compare them and explore their properties.\n",
    "\n",
    "**Math: The Fundamental Theorem of Arithmetic**  \n",
    "Every number can be represented by a product of powers of primes, and (ignoring reorderings) there is exactly one way to do this. For example, $500 = 2^2 \\times 5^3$. This is called the _fundamental theorem of arithmetic_."
   ]
  },
  {
   "cell_type": "markdown",
   "metadata": {},
   "source": [
    "**Syntax: Dictionaries**  \n",
    "Python supports another type of data, called a _dictionary_, that allows us to store multiple pieces of information (like a list), but allows us to use arbitrary indices (positions) for storing that information. For example:  \n",
    "`factors = {}\n",
    "factors[2] = 2\n",
    "factors[5] = 3`  \n",
    "Creates a dictionary and stores the _value_ 2 at location (or _key_) 2, and stores value 3 at location 5. This would be one way of expressing that 500 has factors of $2^2$ and $5^3$.\n",
    "\n",
    "**Recipe: Iterate over Dictionaries**  \n",
    "We can use for loops to cover all of the keys and values of a dictionary.  \n",
    "`for (key, value) in some_dictionary.items():\n",
    "    print(key ** value)\n",
    "`\n",
    "\n",
    "**Recipe: Retrieve a value**  \n",
    "Because a dictionary may or may not have a value stored at a given location, we can use the _get_ method (command) to retrieve a value or return a default value (a value if the location wasn't used by the dictionary.\n",
    "`[variable name] = [name of dictionary].get([key], [default value])`  \n",
    "We can also check if a key (location) is used by using the `in` keyword:  \n",
    "`if [key] in [name of dictionary]:\n",
    "    [Do something]\n",
    "`  \n",
    "\n",
    "We can use dictionaries to represent factors of numbers. Here's a short program that converts from a factored representation to the complete number:"
   ]
  },
  {
   "cell_type": "code",
   "execution_count": 5,
   "metadata": {},
   "outputs": [
    {
     "name": "stdout",
     "output_type": "stream",
     "text": [
      "60\n"
     ]
    }
   ],
   "source": [
    "factors = { 2:2, 3:1, 5:1 }\n",
    "product = 1\n",
    "for (factor, exponent) in factors.items():\n",
    "    product = product * (factor ** exponent)\n",
    "print(product)"
   ]
  },
  {
   "cell_type": "markdown",
   "metadata": {},
   "source": [
    "**Problem: Multiply Factored Representations**  \n",
    "Given factors1 and factors2 as two factor dictionaries, compute the factored product of the two numbers. For example, the product of 12 = {2:2, 3:1} and 50 = {2:1, 5:2} should be 600 = {2:3, 3:1, 5:2}"
   ]
  },
  {
   "cell_type": "code",
   "execution_count": null,
   "metadata": {
    "collapsed": true
   },
   "outputs": [],
   "source": [
    "factors1 = {2:2, 3:1} # This is 12\n",
    "factors2 = {2:1, 5:2} # This is 50\n",
    "# Write your code below here:\n"
   ]
  },
  {
   "cell_type": "markdown",
   "metadata": {
    "collapsed": true
   },
   "source": [
    "**Math: Prime Testing**  \n",
    "One way to test if a number (let's call it $n$) is a prime number is to try dividing it by every number less than it. But if we think about this a little longer, we will see that we only need to check if it's divisible prime numbers less than it. That's because if a number is divisible by $a \\times b$, it must also be divisible by $a$ and by $b$. If we think even longer, we will see that we don't need to try numbers greater than $\\frac{1}{2}n$, since they definitely can't evenly divide $n$, because the quotient would be less than $2$, but not $1$. If there is a square-root of $n$ (a number that we can square to get $n$), so that $x^2=n$, we only need to check prime numbers less than $x$, because anything bigger would have a smaller quotient, which we would have already checked.\n",
    "\n",
    "**Memo: Algorithm**  \n",
    "An algorithm is a sequence of instructions that solve a particular problem.\n",
    "\n",
    "**Math: Prime Sieves**  \n",
    "A _Prime Sieve_ is a filter for prime numbers. It is an algorithm for finding which numbers are prime numbers. A very famous Prime Sieve is _The Sieve of Eratosthenes_.\n",
    "\n",
    "**Problem: Sieve of Eratosthenes**  \n",
    "Read about the Sieve of Eratosthenes. Create your own implementation and use it to find all of the prime numbers less than 100.\n",
    "\n",
    "**Math: Prime Factorization**  \n",
    "The problem of prime factorization is the following: Given a number, express it as a unique product of prime numbers.  \n",
    "A significant open problem (a hard problem that hasn't been solved yet) is the question of what the fastest way to factorize very large numbers is.  We know of some good ways, but maybe there's an even better one out there.\n",
    "\n",
    "**Problem: Prime Factorization**  \n",
    "Write a program to take a prime number and factorize it. Use it to factorize the number 600."
   ]
  },
  {
   "cell_type": "markdown",
   "metadata": {},
   "source": [
    "# Homework (Second Week)"
   ]
  },
  {
   "cell_type": "markdown",
   "metadata": {
    "collapsed": true
   },
   "source": [
    "Do all of the problems left in these notes. Don't be afraid to try some experiments on your own to make sure you understand all the concepts, and feel free to look for explanations and ideas online."
   ]
  },
  {
   "cell_type": "code",
   "execution_count": null,
   "metadata": {
    "collapsed": true
   },
   "outputs": [],
   "source": []
  }
 ],
 "metadata": {
  "kernelspec": {
   "display_name": "Python 3",
   "language": "python",
   "name": "python3"
  },
  "language_info": {
   "codemirror_mode": {
    "name": "ipython",
    "version": 3
   },
   "file_extension": ".py",
   "mimetype": "text/x-python",
   "name": "python",
   "nbconvert_exporter": "python",
   "pygments_lexer": "ipython3",
   "version": "3.6.3"
  }
 },
 "nbformat": 4,
 "nbformat_minor": 2
}

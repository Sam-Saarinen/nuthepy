{
 "cells": [
  {
   "cell_type": "markdown",
   "metadata": {},
   "source": [
    "# Complex Datatypes\n",
    "\n",
    "We've seen several types of data, including integers, lists, and dictionaries. But there are many more, including data types that are built out of ones we've already seen. For example, we could make a list of lists, or a list of dictionaries, or a dictionary mapping numbers to lists. What might this look like?"
   ]
  },
  {
   "cell_type": "code",
   "execution_count": 3,
   "metadata": {},
   "outputs": [
    {
     "name": "stdout",
     "output_type": "stream",
     "text": [
      "[[0, 1, 4, 9], [2, 3, 5, 7], [1, 2, 4, 8]]\n",
      "[0, 1, 4, 9]\n"
     ]
    }
   ],
   "source": [
    "list1 = [0, 1, 4, 9]\n",
    "list2 = [2, 3, 5, 7]\n",
    "# We can store any variables in a list, or even create a sub-list inside our list.\n",
    "list_of_lists = [list1, list2, [1, 2, 4, 8] ]\n",
    "print(list_of_lists)\n",
    "print(list_of_lists[0])"
   ]
  },
  {
   "cell_type": "markdown",
   "metadata": {},
   "source": [
    "In Python, we can use a special piece of syntax called `isinstance` to test if our data is a number or a list.\n",
    "**Syntax: Type Checking **  \n",
    "`isinstance( [variable name or value] , int)` gives `True` if the variable is an integer, and gives `False` otherwise."
   ]
  },
  {
   "cell_type": "code",
   "execution_count": 5,
   "metadata": {},
   "outputs": [
    {
     "name": "stdout",
     "output_type": "stream",
     "text": [
      "True\n",
      "False\n",
      "False\n",
      "True\n"
     ]
    }
   ],
   "source": [
    "print( isinstance(5, int) )\n",
    "print( isinstance(5, list) )\n",
    "print( isinstance([5], int) )\n",
    "print( isinstance([5], list) )"
   ]
  },
  {
   "cell_type": "markdown",
   "metadata": {},
   "source": [
    "This is actually a new data type - a Boolean value. (They're named after George Boole, who invented them.) Boolean values are either `True` or `False`. We can think about them as being a little like $\\mathbb{Z}/2$, which are either 1 (True) or 0 (False).\n",
    "\n",
    "We can store boolean values in variables, and we can also combine them using the operators `and` and `or`. For example:"
   ]
  },
  {
   "cell_type": "code",
   "execution_count": 8,
   "metadata": {},
   "outputs": [
    {
     "name": "stdout",
     "output_type": "stream",
     "text": [
      "False\n",
      "True\n",
      "False\n"
     ]
    }
   ],
   "source": [
    "number = 5\n",
    "less_than_three = (number < 3) # Stores True or False. 5 < 3 is False\n",
    "greater_than_one = (number > 1) # Stores True or False. 5 > 1 is True\n",
    "print( less_than_three and greater_than_one )\n",
    "print( less_than_three or greater_than_one )\n",
    "\n",
    "# NOTE: We can test whether two things are equal\n",
    "# (different from storing a value in a variable)\n",
    "# using two = signs.\n",
    "equals_two = (number == 2) # The first equals sign says to store the result. The two equals signs give True or False.\n",
    "print(equals_two)"
   ]
  },
  {
   "cell_type": "markdown",
   "metadata": {},
   "source": [
    "If we think about True as being 1 and False as being 0, \"`and`\" corresponds to multiplying the numbers:  \n",
    "$$\n",
    "1 \\times 1 = 1 \\; \\\\\n",
    "1 \\times 0 = 0 \\; \\\\\n",
    "0 \\times 1 = 0 \\; \\\\\n",
    "0 \\times 0 = 0 \\; \n",
    "$$\n",
    "\n",
    "\"`or`\" corresponds to taking the maximum of the numbers:  \n",
    "$$\n",
    "\\max( 1, 1) = 1 \\; \\\\\n",
    "\\max( 1, 0) = 1 \\; \\\\\n",
    "\\max( 0, 1) = 1 \\; \\\\\n",
    "\\max( 0, 0) = 0 \\; \n",
    "$$\n",
    "\n",
    "Finally, `not` corresponds to adding 1, mod 2.  \n",
    "$$\n",
    "0 + 1 \\equiv 1 \\mod 2 \\; \\\\\n",
    "1 + 1 \\equiv 0 \\mod 2 \\; \n",
    "$$  \n",
    "\n",
    "We use Booleans to control whether if-statements run, and for how long while-loops run, so these values are quite useful when writing programs."
   ]
  },
  {
   "cell_type": "markdown",
   "metadata": {},
   "source": [
    "# Functions - Named Pieces of Code\n",
    "\n",
    "**Memo: Functions**  \n",
    "A function is a named piece of code.  You can use a function at any time by calling its name.  \n",
    "\n",
    "**Syntax: Functions**  \n",
    "We can _define_ a _function_ with the `def` keyword. Functions take inputs and `return` an output. For example, here is a function that adds two numbers together.  \n",
    "`def add_numbers(number1, number2):\n",
    "    total = number1 + number2\n",
    "    return total\n",
    "`  \n",
    "In this example, `number1` and `number2` are input _parameters_ to the function, and affect what the output will be. Here's an example of _calling_ a function:  \n",
    "`print( add_numbers(2, 2) ) # prints 4`  "
   ]
  },
  {
   "cell_type": "code",
   "execution_count": 16,
   "metadata": {},
   "outputs": [
    {
     "name": "stdout",
     "output_type": "stream",
     "text": [
      "4\n"
     ]
    }
   ],
   "source": [
    "def add_numbers(number1, number2): # This doesn't do anything until the function is called\n",
    "    total = number1 + number2\n",
    "    return total\n",
    "# Any code that isn't indented (    offset with white-space, like this) isn't part of the function.\n",
    "# To indent, use the Tab key.\n",
    "\n",
    "print( add_numbers(2, 2) ) # This actually calls the function. The program now executes the code in the function."
   ]
  },
  {
   "cell_type": "markdown",
   "metadata": {},
   "source": [
    "**Problem: A Multiplication Function**  \n",
    "Write a function that multiplies two numbers. (Bonus: can you write a function that multiplies a list of numbers?)"
   ]
  },
  {
   "cell_type": "code",
   "execution_count": 1,
   "metadata": {
    "collapsed": true
   },
   "outputs": [],
   "source": [
    "# Define your function here:\n",
    "#...\n",
    "\n",
    "# Call your function (actually use it) here:\n",
    "#..."
   ]
  },
  {
   "cell_type": "markdown",
   "metadata": {},
   "source": [
    "**Problem: Prime Factorization Function**  \n",
    "Turn your program from the last chapter to do prime factorization into a function. (If you didn't do the homework, write a function to factorize a number now.) Call this function to factorize 1200, 4, and 73."
   ]
  },
  {
   "cell_type": "code",
   "execution_count": null,
   "metadata": {
    "collapsed": true
   },
   "outputs": [],
   "source": [
    "# Define your function here:\n",
    "#...\n",
    "\n",
    "# Call your function (actually use it) here:\n",
    "#..."
   ]
  },
  {
   "cell_type": "markdown",
   "metadata": {},
   "source": [
    "**Memo: Recursion**  \n",
    "In Python, functions are allowed to recur - to call themselves. This is called _recursion_.  \n",
    "\n",
    "**Recipe: Infinite Loops, the Recursive Way**  \n",
    "A function that calls itself can easily create an unending loop; the function calls itself, and then calls itself, and then calls itself, etc.  \n",
    "`def infinite_function(): # No parameters needed.\n",
    "    value = infinite_function() # This calls the function itself.\n",
    "    return value # This command never runs.\n",
    "`  \n",
    "\n",
    "**Recipe: Recursion with Base Cases**  \n",
    "When we want to solve a large problem, we can write a recursive function with a built-in solution for some small sub-problems (these are called _base cases_) and a rule for breaking down larger problems into smaller problems that can be solved recursively.  \n",
    "`def [function name](n):\n",
    "    if (n == 1):\n",
    "        return [base case]\n",
    "    else:\n",
    "        return [function name](n-1)\n",
    "`\n",
    "\n",
    "Suppose we want to make a list of lists of $1$, with the following rule: a list can only store a list and number, two numbers, or two lists. We can write a function that does one thing if the number of $1$'s left to write is either 2 or 3, and otherwise break down the problem using recursion.  "
   ]
  },
  {
   "cell_type": "code",
   "execution_count": 11,
   "metadata": {},
   "outputs": [
    {
     "name": "stdout",
     "output_type": "stream",
     "text": [
      "[[1, 1], [1, 1]]\n",
      "[[[[[1, 1], 1], [[1, 1], 1]], [[[1, 1], 1], [1, 1]]], [[[[1, 1], 1], [1, 1]], [[[1, 1], 1], [1, 1]]]]\n"
     ]
    }
   ],
   "source": [
    "def lists_of_ones(n):\n",
    "    if n <= 2: # Less-or-Equal-to helps prevent infinite loops if n is less than 2.\n",
    "        return [1, 1]\n",
    "    elif n == 3:\n",
    "        return [[1, 1], 1]\n",
    "    else:\n",
    "        second_number = n//2\n",
    "        first_number = n - second_number # first_number is always at least as big as second_number\n",
    "        return [lists_of_ones(first_number), lists_of_ones(second_number)]\n",
    "\n",
    "print( lists_of_ones(4) )\n",
    "print( lists_of_ones(21) )"
   ]
  },
  {
   "cell_type": "markdown",
   "metadata": {},
   "source": [
    "**Problem: lists_of_ones, Another Way**  \n",
    "Can you think of a different way of splitting up the problem above (the part in the `else` statement) that makes a different pattern of output? Try changing the code above to make a different pattern.\n",
    "\n",
    "Just like we can use recursion to generate complex datastructures, we can also use recursion to process complex datastructures. For example, we can add up all the ones in one of the structures produced by lists_of_ones."
   ]
  },
  {
   "cell_type": "code",
   "execution_count": 15,
   "metadata": {},
   "outputs": [
    {
     "name": "stdout",
     "output_type": "stream",
     "text": [
      "[[[[[[[1, 1], [1, 1]], [[1, 1], 1]], [[[1, 1], 1], [[1, 1], 1]]], [[[[1, 1], 1], [[1, 1], 1]], [[[1, 1], 1], [[1, 1], 1]]]], [[[[[1, 1], [1, 1]], [[1, 1], 1]], [[[1, 1], 1], [[1, 1], 1]]], [[[[1, 1], 1], [[1, 1], 1]], [[[1, 1], 1], [[1, 1], 1]]]]], [[[[[[1, 1], [1, 1]], [[1, 1], 1]], [[[1, 1], 1], [[1, 1], 1]]], [[[[1, 1], 1], [[1, 1], 1]], [[[1, 1], 1], [[1, 1], 1]]]], [[[[[1, 1], [1, 1]], [[1, 1], 1]], [[[1, 1], 1], [[1, 1], 1]]], [[[[1, 1], 1], [[1, 1], 1]], [[[1, 1], 1], [[1, 1], 1]]]]]]\n",
      "100\n"
     ]
    }
   ],
   "source": [
    "big_data_structure = lists_of_ones(100)\n",
    "print(big_data_structure)\n",
    "\n",
    "def add_all_ones(data_structure):\n",
    "    if isinstance(data_structure, int):\n",
    "        return data_structure # If data_structure is a number, just send it back.\n",
    "    else: # otherwise, data_structure is a list, and we should add up each element.\n",
    "        total = 0\n",
    "        for x in list(range(len(data_structure))): # x takes values 0 through the length of the data_structure - 1\n",
    "            total = total + add_all_ones(data_structure[x]) # solve the sub-problem and add it to the total\n",
    "        return total\n",
    "\n",
    "print( add_all_ones(big_data_structure) )"
   ]
  },
  {
   "cell_type": "markdown",
   "metadata": {},
   "source": [
    "# Homework:\n",
    "This is the end of Part 1. Please complete all of the problems in the section above. In addition, please complete the following problem.\n",
    "\n",
    "**Problem: Binary Counting, Recursively**  \n",
    "In the previous chapter, we saw one way of producing binary representations of numbers from 1 to 30. Can you think of a way to do this recursively? (Hint: For both choices (0 or 1) for a given digit, there are an equal number of ways of assigning the next digits. For the purposes of this problem, it is okay to generate extra numbers, as long as the binary representations of the numbers 1 through 30 appear, in order."
   ]
  },
  {
   "cell_type": "markdown",
   "metadata": {},
   "source": [
    "# Part 2:\n",
    "\n",
    "In the last Chapter, we talked about sequences. Many sequences can be defined in terms of their previous elements. For example, the even numbers can be generated by taking the previous number in the sequence and adding 2 to it. Similarly for the odd numbers. There is a special sequence of numbers, called the Fibonacci numbers, that are generated by the previous two elements.\n",
    "\n",
    "**Math: Fibonacci Numbers**  \n",
    "$F_n = F_{n-1} + F_{n-2}$  \n",
    "$F_0 = 0$  \n",
    "$F_1 = 1$  \n",
    "So the sequence $F = [0, 1, 1, 2, 3, 5, 8, 13, 21, ...]$  \n",
    "\n",
    "It might be tempting, given this definition, to define a recursive function to compute the nth Fibonacci number. However, as we will see in the next Chapter, this leads to the computer doing many extra and unnecessary computations.  We will also see a faster way to do this in the future.  But for the time being, let's define some functions to compute the next value in a sequence."
   ]
  },
  {
   "cell_type": "code",
   "execution_count": 21,
   "metadata": {
    "collapsed": true
   },
   "outputs": [],
   "source": [
    "def next_number(last_number):\n",
    "    return last_number + 1\n",
    "\n",
    "def next_even(number):\n",
    "    return number + 2\n",
    "\n",
    "def next_odd(number):\n",
    "    return number + 2\n",
    "\n",
    "def next_fibonacci(last_number, number_before_that):\n",
    "    return last_number + number_before_that"
   ]
  },
  {
   "cell_type": "markdown",
   "metadata": {},
   "source": [
    "**Math: Collatz Sequence**  \n",
    "There's a very interesting sequence that can be defined in a similar way, called the Collatz sequence. The Collatz sequence has a simple rule: If the number is even, divide by 2. If it is odd, multiply by 3 and add 1. For example, if we start with the number 10, we divide by 2 to get 5, then multiply by 3 and add 1 to get 16, then get 8, 4, 2, and 1. Once the sequence reaches 1, it repeats 4, 2, 1 forever.\n",
    "\n",
    "**Open Question: Does the Collatz Sequence Always Reach 1?**  \n",
    "This is a very famous problem, but proving the answer may be very difficult. It seems like every number (at least every number we have tried so far) eventually leads to 1 in the Collatz sequence. But maybe there is some number (a very big one, since we've tried all the small ones) that just goes on and on forever without ever reaching 1. Maybe you will be the one to answer this question!"
   ]
  },
  {
   "cell_type": "code",
   "execution_count": 22,
   "metadata": {},
   "outputs": [
    {
     "name": "stdout",
     "output_type": "stream",
     "text": [
      "5\n",
      "16\n"
     ]
    }
   ],
   "source": [
    "def next_collatz(number):\n",
    "    if (number % 2)==0:\n",
    "        return number // 2\n",
    "    else:\n",
    "        return number * 3 + 1\n",
    "\n",
    "print(next_collatz(10))\n",
    "print(next_collatz(5))"
   ]
  },
  {
   "cell_type": "markdown",
   "metadata": {},
   "source": [
    "Given all of these different ways of generating sequences, is there someway to automatically generate the first $n$ items in a sequence? There is a really nice way of doing this in Python that involves passing a function as a parameter to another function.  \n",
    "\n",
    "**Memo: Functionals**  \n",
    "Functionals are functions that either use functions passed as parameters, or return functions when they are called.\n",
    "\n",
    "**Memo: Functional Programming**  \n",
    "_Functional Programming_ is the design of computation around mathematical functions that don't change stored data.\n",
    "\n",
    "Although a thorough coverage of Functional Programming is outside the scope of this course, we will use the idea of breaking down problems using functions as a tool for exploring sequences."
   ]
  },
  {
   "cell_type": "code",
   "execution_count": 23,
   "metadata": {},
   "outputs": [
    {
     "name": "stdout",
     "output_type": "stream",
     "text": [
      "[1, 2, 3, 4, 5, 6, 7, 8, 9, 10, 11, 12, 13, 14, 15, 16, 17, 18, 19, 20, 21, 22, 23, 24, 25, 26, 27, 28, 29, 30]\n",
      "[2, 4, 6, 8, 10, 12, 14, 16, 18, 20, 22, 24, 26, 28, 30, 32, 34, 36, 38, 40, 42, 44, 46, 48, 50, 52, 54, 56, 58, 60]\n",
      "[1, 3, 5, 7, 9, 11, 13, 15, 17, 19, 21, 23, 25, 27, 29, 31, 33, 35, 37, 39, 41, 43, 45, 47, 49, 51, 53, 55, 57, 59]\n",
      "[15, 46, 23, 70, 35, 106, 53, 160, 80, 40, 20, 10, 5, 16, 8, 4, 2, 1, 4, 2, 1, 4, 2, 1, 4, 2, 1, 4, 2, 1]\n"
     ]
    }
   ],
   "source": [
    "def sequence_from_rule(starting_number, rule_for_next_number, length_of_sequence):\n",
    "    # starting_number is a number\n",
    "    # rule_for_next_number is a function (passed using its name, not by calling it with parentheses)\n",
    "    # length_of_sequence is a number\n",
    "    sequence = [starting_number]\n",
    "    current_number = starting_number\n",
    "    for index in list(range(length_of_sequence - 1)): # We subtract one because we already added the starting number\n",
    "        current_number = rule_for_next_number(current_number)\n",
    "        sequence.append(current_number)\n",
    "    return sequence\n",
    "\n",
    "print( sequence_from_rule(1, next_number, 30) ) # Pass a function by using its name without parentheses.\n",
    "print( sequence_from_rule(2, next_even, 30) )\n",
    "print( sequence_from_rule(1, next_odd, 30 ) )\n",
    "print( sequence_from_rule(15, next_collatz, 30) )"
   ]
  },
  {
   "cell_type": "markdown",
   "metadata": {},
   "source": [
    "We can even use the idea of functionals to generate special-purpose functions from a more general template."
   ]
  },
  {
   "cell_type": "code",
   "execution_count": 25,
   "metadata": {},
   "outputs": [
    {
     "name": "stdout",
     "output_type": "stream",
     "text": [
      "[0, 2, 4, 6, 8, 10, 12, 14, 16, 18]\n",
      "[20, 22, 24, 26, 28, 30, 32, 34, 36, 38, 40, 42, 44, 46, 48, 50, 52, 54, 56, 58]\n",
      "[2, 4, 6, 8, 10, 12, 14, 16, 18, 20, 22, 24, 26, 28, 30, 32, 34]\n"
     ]
    }
   ],
   "source": [
    "def sequence_function_from_rule(rule_for_next_number):\n",
    "    # We can define a function inside another function and return it.\n",
    "    def sequence_function(starting_number, length_of_sequence):\n",
    "        # note that rule_for_next_number is \"remembered\" by the function we return.\n",
    "        # This is called a \"closure\"\n",
    "        return sequence_from_rule(starting_number, rule_for_next_number, length_of_sequence)\n",
    "    \n",
    "    return sequence_function # We give back the function, which can now be used for other things.\n",
    "\n",
    "evens_function = sequence_function_from_rule(next_even) # Pass a function by using its name without parentheses.\n",
    "\n",
    "print( evens_function(0, 10) )\n",
    "print( evens_function(20, 20) )\n",
    "print( evens_function(2, 17) )"
   ]
  },
  {
   "cell_type": "markdown",
   "metadata": {},
   "source": [
    "**Problem: Collatz Sequence Generation**  \n",
    "Use sequence_function_from_rule to create a Collatz-sequence-generating function. Use a loop to look at the collatz sequences for the first 30 natural numbers.\n",
    "\n",
    "# Homework:\n",
    "In addition to the problem above, do the following 3 problems:\n",
    "\n",
    "**Problem: Fibonacci Ratios**  \n",
    "Compute the first 30 Fibonacci numbers. What is the ratio of each of those numbers (except the first one) to the one before it? In other words, what do you get when you do (real, not integer) division of $F_n / F_{n-1}$?\n",
    "\n",
    "**Problem: New Sequence**  \n",
    "Come up with a different sequence (such as the multiples of 17, square numbers, or powers of two) and create a function that generates the sequence. Use that function to generate the first 100 elements in that sequence.\n",
    "\n",
    "**Problem: Your Own Functional**  \n",
    "Create a function that returns functions. For example, you could create a function that creates functions that generate numbers raised to a specified power. For example, this function could give a function that generates squares, cubes, numbers raised to the 4th power, etc."
   ]
  },
  {
   "cell_type": "code",
   "execution_count": null,
   "metadata": {
    "collapsed": true
   },
   "outputs": [],
   "source": []
  }
 ],
 "metadata": {
  "kernelspec": {
   "display_name": "Python 3",
   "language": "python",
   "name": "python3"
  },
  "language_info": {
   "codemirror_mode": {
    "name": "ipython",
    "version": 3
   },
   "file_extension": ".py",
   "mimetype": "text/x-python",
   "name": "python",
   "nbconvert_exporter": "python",
   "pygments_lexer": "ipython3",
   "version": "3.6.9"
  }
 },
 "nbformat": 4,
 "nbformat_minor": 2
}

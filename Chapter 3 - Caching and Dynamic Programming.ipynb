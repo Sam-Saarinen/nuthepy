{
 "cells": [
  {
   "cell_type": "markdown",
   "metadata": {
    "collapsed": true
   },
   "source": [
    "# Caching and Dynamic Programming\n",
    "Caching (Cache-ing, or making a cache, pronounced \"cash-ing\") is a very important technique in many areas of computing, and it just means \"storing information for future use\".\n",
    "\n",
    "**Memo: Caching**  \n",
    "Caching is storing information for future use.\n",
    "\n",
    "We already know how to store information, using variables, so what makes caching different? Caching is about storing information that we might want to use multiple times, so we don't have to find it again. Many of the functions that we've looked at produce the same value every time you give them the same input. For example, executing the fibonacci function on 2 and 3 always produces 5. (Put another way, the 5th Fibonacci number is always 5.) If I ever need to use the 5th Fibonacci number (such as when computing the 6th Fibonacci number), instead of computing it, I could just check the variable where I stored the value.\n",
    "\n",
    "This chapter is going to mostly explore different ways of computing Fibonacci numbers, using functions, loops, and caching. At the end will be a set of problems requiring you to apply these techniques to other functions and sequences, so that you can answer your own questions about them. But first, let's learn about time:"
   ]
  },
  {
   "cell_type": "code",
   "execution_count": 1,
   "metadata": {},
   "outputs": [
    {
     "name": "stdout",
     "output_type": "stream",
     "text": [
      "1570302520.2700317\n"
     ]
    }
   ],
   "source": [
    "import time # This is an import statement - it lets us use code someone else wrote.\n",
    "time_now = time.time() # time.time is a function that returns a number\n",
    "print( time_now ) # specifically, it's the number of seconds since a specific date."
   ]
  },
  {
   "cell_type": "markdown",
   "metadata": {},
   "source": [
    "**Problem: When is time measured from?**  \n",
    "Do some math based on the number of seconds in a minute/hour/day/year to figure out what day time is measuring from. You can also search online for the answer, but that's less fun.\n",
    "\n",
    "We can measure how long something takes for Python to run by measuring the difference between different times. Let's see how long a recursive definition of Fibonacci numbers takes to compute."
   ]
  },
  {
   "cell_type": "code",
   "execution_count": 2,
   "metadata": {},
   "outputs": [
    {
     "name": "stdout",
     "output_type": "stream",
     "text": [
      "9227465\n",
      "11.458409070968628\n"
     ]
    }
   ],
   "source": [
    "def fibonacci(n):\n",
    "    \"\"\"Computes the nth Fibonacci number\"\"\"\n",
    "    # This is a \"Doc String\" - Think of it as another kind of comment.\n",
    "    \n",
    "    if n <= 0:\n",
    "        return 0\n",
    "    if n == 1:\n",
    "        return 1\n",
    "    else:\n",
    "        return fibonacci(n-1) + fibonacci(n-2)\n",
    "\n",
    "# import time was used in an earlier cell.\n",
    "start = time.time()\n",
    "print( fibonacci(35) ) # Actually calls the function and computes the fibonacci number.\n",
    "end = time.time()\n",
    "\n",
    "print(end - start)"
   ]
  },
  {
   "cell_type": "markdown",
   "metadata": {},
   "source": [
    "This takes a little more than 6 seconds on my computer. That may not seem like a lot, but the time gets longer and longer very quickly. Why is this happening?\n",
    "\n",
    "When we call fibonacci(35), that function calls fibonacci(34) and fibonacci(33). But fibonacci(34) calls fibonacci(33) and fibonacci(32), and fibonacci(33) calls fibonacci(32) and fibonacci(31). And each of those calls fibonacci several times, and so on and so forth. By the time all this is finished, fibonacci has been called tens of millions of times!\n",
    "\n",
    "Maybe we can use the ideas of caching to speed this up? We can use a dictionary to store and lookup values that we might need later."
   ]
  },
  {
   "cell_type": "code",
   "execution_count": 3,
   "metadata": {},
   "outputs": [
    {
     "name": "stdout",
     "output_type": "stream",
     "text": [
      "9227465\n",
      "0.0\n"
     ]
    }
   ],
   "source": [
    "fibonacci2_cache = {0:0, 1:1} # This will be used to store cached values\n",
    "def fibonacci2(n):\n",
    "    \"\"\"Computes the nth Fibonacci number\"\"\"\n",
    "    if n in fibonacci2_cache: # Checks if the key is in the dictionary\n",
    "        return fibonacci2_cache[n]\n",
    "    else:\n",
    "        fibonacci2_cache[n] = fibonacci2(n-1) + fibonacci2(n-2)\n",
    "        return fibonacci2_cache[n]\n",
    "\n",
    "start = time.time()\n",
    "print( fibonacci2(35) ) # Actually calls the function and computes the fibonacci number.\n",
    "end = time.time()\n",
    "\n",
    "print(end - start)"
   ]
  },
  {
   "cell_type": "markdown",
   "metadata": {},
   "source": [
    "Whoah! That's way faster!\n",
    "\n",
    "Incidentally, this technique of caching the results of functions is called _memoization_ (memo-ization, or creating memos).\n",
    "\n",
    "If we knew which values we needed to compute ahead of time, we could just generate them in the order they were needed. Here's an example of this process using loops:"
   ]
  },
  {
   "cell_type": "code",
   "execution_count": 4,
   "metadata": {},
   "outputs": [
    {
     "name": "stdout",
     "output_type": "stream",
     "text": [
      "9227465\n",
      "0.0\n"
     ]
    }
   ],
   "source": [
    "fibonacci3_cache = {0:0, 1:1}\n",
    "def fibonacci3(n):\n",
    "    \"\"\"Computes the nth Fibonacci number\"\"\"\n",
    "    for i in range(2,n+1):\n",
    "        fibonacci3_cache[i] = fibonacci3_cache[i-1] + fibonacci3_cache[i-2]\n",
    "    return fibonacci3_cache[n]\n",
    "\n",
    "start = time.time()\n",
    "print( fibonacci3(35) ) # Actually calls the function and computes the fibonacci number.\n",
    "end = time.time()\n",
    "\n",
    "print(end - start)"
   ]
  },
  {
   "cell_type": "markdown",
   "metadata": {},
   "source": [
    "# Decorators\n",
    "Given any function, we could use similar techniques to cache information from that function and return it instead of doing the computation. But could we do this without modifying the original function? This is the idea behind a _decorator_, a function that takes in a function and returns a slightly modified version. Let's see how this could be used with our original fibonacci function:"
   ]
  },
  {
   "cell_type": "code",
   "execution_count": 5,
   "metadata": {},
   "outputs": [
    {
     "name": "stdout",
     "output_type": "stream",
     "text": [
      "9227465\n",
      "6.345026016235352\n",
      "9227465\n",
      "6.3259196281433105\n",
      "9227465\n",
      "0.0\n"
     ]
    }
   ],
   "source": [
    "def fibonacci(n):\n",
    "    \"\"\"Computes the nth Fibonacci number\"\"\"\n",
    "    # This is a \"Doc String\" - Think of it as another kind of comment.\n",
    "    \n",
    "    if n <= 0:\n",
    "        return 0\n",
    "    if n == 1:\n",
    "        return 1\n",
    "    else:\n",
    "        return fibonacci(n-1) + fibonacci(n-2)\n",
    "\n",
    "def cache_function(function):\n",
    "    the_cache = {} # A different copy is created every time cache_function is called/used.\n",
    "    def lookup_first(input_number): # Define a new function that checks the cache first\n",
    "        if input_number in the_cache:\n",
    "            return the_cache[input_number]\n",
    "        else:\n",
    "            the_cache[input_number] = function(input_number)\n",
    "            return the_cache[input_number]\n",
    "    # The outer function (the decorator) returns the customized cache-checking function\n",
    "    # Note that lookup_first remembers what function and the_cache referred to when it was created.\n",
    "    # This is called a \"closure\".\n",
    "    return lookup_first\n",
    "\n",
    "start = time.time()\n",
    "print( fibonacci(35) ) # Actually calls the function and computes the fibonacci number.\n",
    "end = time.time()\n",
    "print(end - start)\n",
    "\n",
    "caching_fibonacci = cache_function(fibonacci) # Creates a new caching function\n",
    "\n",
    "start = time.time()\n",
    "print( caching_fibonacci(35) ) # This is still slow\n",
    "end = time.time()\n",
    "print(end - start)\n",
    "\n",
    "start = time.time()\n",
    "print( caching_fibonacci(35) ) # But if we call it again, the result is cached.\n",
    "end = time.time()\n",
    "print(end - start)"
   ]
  },
  {
   "cell_type": "markdown",
   "metadata": {},
   "source": [
    "This might be a little disappointing, since the inner fibonacci function still takes a long time the first time it runs. Is there any way to make the original fibonacci function call the faster cached version? Absolutely. We just have to use the function name it's looking for (\"fibonacci\" not \"caching fibonacci\")."
   ]
  },
  {
   "cell_type": "code",
   "execution_count": 6,
   "metadata": {},
   "outputs": [
    {
     "name": "stdout",
     "output_type": "stream",
     "text": [
      "9227465\n",
      "6.144596099853516\n",
      "9227465\n",
      "14930352\n",
      "0.0\n"
     ]
    }
   ],
   "source": [
    "start = time.time()\n",
    "print( fibonacci(35) ) # Actually calls the function and computes the fibonacci number.\n",
    "end = time.time()\n",
    "print(end - start)\n",
    "\n",
    "# This reassignment means that when fibonacci tries to call \"fibonacci\" recursively,\n",
    "# it uses the caching function instead of the original.\n",
    "fibonacci = cache_function(fibonacci)\n",
    "\n",
    "start = time.time()\n",
    "print( fibonacci(35) )\n",
    "# Calling with a new number to show that it really is faster, and not just reusing the cache.\n",
    "print( fibonacci(36) )\n",
    "end = time.time()\n",
    "print(end - start)"
   ]
  },
  {
   "cell_type": "markdown",
   "metadata": {},
   "source": [
    "**Math: Pell Numbers**  \n",
    "$$\n",
    "P_n = 2\\times P_{n-1} + P_{n-2}\n",
    "$$  \n",
    "So the first few Pell numbers are 0, 1, 2, 5, 12, 29...\n",
    "\n",
    "**Problem: Caching Pell Numbers**  \n",
    "Apply one of the caching techniques covered in this chapter in order to compute the first 100 Pell numbers\n",
    "\n",
    "**Problem: Caching Statistics on the Collatz Flight time**  \n",
    "Define the \"flight time\" of a number as the number of times the Collatz function must be applied to it before it reaches 1. By definition, flight_time(1) == 0. Use caching to efficiently compute the flight time of the first 100 natural numbers.\n",
    "\n",
    "**Problem: Caching Prime Numbers**  \n",
    "Use caching techniques to store prime numbers so that numbers can be factorized more easily."
   ]
  },
  {
   "cell_type": "code",
   "execution_count": null,
   "metadata": {},
   "outputs": [],
   "source": []
  }
 ],
 "metadata": {
  "kernelspec": {
   "display_name": "Python 3",
   "language": "python",
   "name": "python3"
  },
  "language_info": {
   "codemirror_mode": {
    "name": "ipython",
    "version": 3
   },
   "file_extension": ".py",
   "mimetype": "text/x-python",
   "name": "python",
   "nbconvert_exporter": "python",
   "pygments_lexer": "ipython3",
   "version": "3.6.9"
  }
 },
 "nbformat": 4,
 "nbformat_minor": 2
}

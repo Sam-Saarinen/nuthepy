{
 "cells": [
  {
   "cell_type": "markdown",
   "metadata": {
    "collapsed": true
   },
   "source": [
    "**Memo: Objects**  \n",
    "Objects are data with associated functions, called _methods_.\n",
    "\n",
    "**Memo: Classes**  \n",
    "Classes (as in categories, not studying) are the description (in code) of how to create and use objects of a particular type.\n",
    "\n",
    "You've already been exposed to objects and methods. For example, every time we've used `some_list.append()`, this was calling the method (function) `append` associated with the `some_list` object. We can define our own classes using Python.\n",
    "\n",
    "**Syntax: Classes**  \n",
    "Classes are defined using the `class` keyword. Methods can be defined inside the class description. There are several special methods, called _magic methods_ or _dunder methods_ (after the double underscores __ in their name) that Python uses to do special things.  One of them is the `__init__` method, which is used to create an object from the class description. (You can read about the others [here](https://micropyramid.com/blog/python-special-class-methods-or-magic-methods/).)  \n",
    "Methods of an object always take an extra first parameter which refers to the object itself (it is frequently called `self`, but we could call it anything). Data specific to the object, as well as its methods, can be referenced by using the `.` syntax on the object `self` refers to.  \n",
    "Objects can be created from the definition provided by a class by using the class name. This is called object \"construction\"."
   ]
  },
  {
   "cell_type": "code",
   "execution_count": 1,
   "metadata": {},
   "outputs": [],
   "source": [
    "class Fraction:\n",
    "    def __init__(self, numerator, denominator):\n",
    "        # Note that self is the object being \"constructed\"\n",
    "        # numerator and denominator are information we pass in when we call the constructor (this method)\n",
    "        \n",
    "        self.top = numerator # We can store data in the self object\n",
    "        self.bottom = denominator\n",
    "    \n",
    "    def estimate(self):\n",
    "        # a helpful function we are creating to estimate the value of a fraction\n",
    "        # note that we take self as a parameter, but when we call it, we use the . syntax\n",
    "        # Like this: `fraction_object.estimate()`\n",
    "        \n",
    "        # We can use data we have previously stored in the object\n",
    "        return (self.top / self.bottom)\n",
    "    \n",
    "    def __lt__(self, other):\n",
    "        # a \"Magic Method\" that tells Python what to do if we use the < symbol.\n",
    "        # 'lt' stands for \"Less Than\"\n",
    "        \n",
    "        # Return true if the estimate of this fraction is less than the estimate of the other fraction\n",
    "        return self.estimate() < other.estimate()"
   ]
  },
  {
   "cell_type": "code",
   "execution_count": 2,
   "metadata": {},
   "outputs": [
    {
     "name": "stdout",
     "output_type": "stream",
     "text": [
      "0.5\n"
     ]
    }
   ],
   "source": [
    "one_half = Fraction(1, 2) # Call the constructor.\n",
    "one_third = Fraction(1, 3) # Create a different object using the same class.\n",
    "print(one_half.estimate())"
   ]
  },
  {
   "cell_type": "code",
   "execution_count": 4,
   "metadata": {},
   "outputs": [
    {
     "name": "stdout",
     "output_type": "stream",
     "text": [
      "False\n"
     ]
    },
    {
     "ename": "TypeError",
     "evalue": "'<=' not supported between instances of 'Fraction' and 'Fraction'",
     "output_type": "error",
     "traceback": [
      "\u001b[1;31m---------------------------------------------------------------------------\u001b[0m",
      "\u001b[1;31mTypeError\u001b[0m                                 Traceback (most recent call last)",
      "\u001b[1;32m<ipython-input-4-951b32534211>\u001b[0m in \u001b[0;36m<module>\u001b[1;34m\u001b[0m\n\u001b[0;32m      3\u001b[0m \u001b[1;31m# but the second one fails, because we did not tell Python how to use the > operator.\u001b[0m\u001b[1;33m\u001b[0m\u001b[1;33m\u001b[0m\u001b[1;33m\u001b[0m\u001b[0m\n\u001b[0;32m      4\u001b[0m \u001b[0mprint\u001b[0m\u001b[1;33m(\u001b[0m\u001b[0mone_half\u001b[0m \u001b[1;33m<\u001b[0m \u001b[0mone_third\u001b[0m\u001b[1;33m)\u001b[0m\u001b[1;33m\u001b[0m\u001b[1;33m\u001b[0m\u001b[0m\n\u001b[1;32m----> 5\u001b[1;33m \u001b[0mprint\u001b[0m\u001b[1;33m(\u001b[0m\u001b[0mone_half\u001b[0m \u001b[1;33m<=\u001b[0m \u001b[0mone_third\u001b[0m\u001b[1;33m)\u001b[0m\u001b[1;33m\u001b[0m\u001b[1;33m\u001b[0m\u001b[0m\n\u001b[0m",
      "\u001b[1;31mTypeError\u001b[0m: '<=' not supported between instances of 'Fraction' and 'Fraction'"
     ]
    }
   ],
   "source": [
    "# Now we can test out the comparison operators.\n",
    "# Note that the first one works fine, because we implemented <\n",
    "# but the second one fails, because we did not tell Python how to use the <= operator.\n",
    "print(one_half < one_third)\n",
    "print(one_half <= one_third)"
   ]
  },
  {
   "cell_type": "markdown",
   "metadata": {},
   "source": [
    "Classes are a good idea because they let us group multiple functions that operate on the same kind of data. This provides potential simplifications over simply using many functions. They also let us store multiple pieces of inter-related data easily.\n",
    "\n",
    "**Problem: A Rational Numbers Class**  \n",
    "Implement a class that (similar to the `Fraction`) class is able to represent rational numbers. This class should have the following methods:\n",
    "- `__init__` - A constructor that takes a numerator and denominator\n",
    "- `simplify` - A method that returns the numerator and denominator, divided by their GCD.\n",
    "- `__mul__` - A method for multiplying two rational numbers. It should return a new rational number object.\n",
    "- `__truediv__` - A method for dividing one rational number by another (hint: you can call the multiply method from the divide method). It should return a new rational number object.\n",
    "- `__pow__` - A method for raising rational numbers to a power. It should return a new rational number object.\n",
    "\n",
    "Note that these methods may all be made simpler if you factor the numerator and denominator at the time the rational number is constructed.\n",
    "\n",
    "**Bonus Problem: Upgrade the Rational Numbers Class**  \n",
    "These are not required, but are interesting extra problems for students who want to test their skills. Add the following methods to the Rational Numbers class:\n",
    "- `__add__` - A method to add two rational numbers. It should return a new rational number object.\n",
    "- `__sub__` - A method to subtract one rational number from another. It should return a new rational number object.\n",
    "- What other useful things might you want the class to do? Implement at least one more method for the Rational Numbers class."
   ]
  },
  {
   "cell_type": "code",
   "execution_count": null,
   "metadata": {},
   "outputs": [],
   "source": []
  }
 ],
 "metadata": {
  "kernelspec": {
   "display_name": "Python 3",
   "language": "python",
   "name": "python3"
  },
  "language_info": {
   "codemirror_mode": {
    "name": "ipython",
    "version": 3
   },
   "file_extension": ".py",
   "mimetype": "text/x-python",
   "name": "python",
   "nbconvert_exporter": "python",
   "pygments_lexer": "ipython3",
   "version": "3.6.9"
  }
 },
 "nbformat": 4,
 "nbformat_minor": 2
}

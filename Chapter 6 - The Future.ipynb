{
 "cells": [
  {
   "cell_type": "markdown",
   "metadata": {
    "collapsed": true
   },
   "source": [
    "# What's Next?\n",
    "\n",
    "You've learned a lot of programming:\n",
    "- Variables\n",
    "- Lists\n",
    "- Conditionals\n",
    "- Loops\n",
    "- Functions\n",
    "- Functionals\n",
    "- Caching\n",
    "- Recursion and Algorithms\n",
    "- Objects and Classes\n",
    "\n",
    "and a lot of math:\n",
    "- Natural Numbers\n",
    "- Modular Arithmetic\n",
    "- Prime Numbers\n",
    "- Factorization\n",
    "- Sets and Sequences\n",
    "- Fibonacci Numbers and other Sequences\n",
    "\n",
    "This section is all about combining the pieces to do something even better. It is your final test: Attempt to answer one of the following question using what you've learned about number theory and programming. Some of them are open problems (no one has solved them yet), but that doesn't mean you can't make progress. Programming will be a powerful tool for you to tackle some of these questions.\n",
    "\n",
    "# Fibonacci Numbers\n",
    "You already know what the Fibonacci Numbers are, but here are some additional questions that you can explore:  \n",
    "- Are there any Fibonacci numbers greater than 1 that are square numbers? (How many, if any, are there?)\n",
    "- Can you generate any number by changing the values of $F_0$ and $F_1$? For example, can you figure out what $F_0$ and $F_1$ need to be in order for $F_{10}$ to be $2019$?\n",
    "\n",
    "# Collatz Sequences\n",
    "Does every Collatz sequence reach 1? There are many alternative ways of phrasing that question. Does every Collatz sequence have finite length (does it have an end)? Is there any Collatz sequence that never stops getting bigger, or that repeats itself?\n",
    "\n",
    "# Goldbach's Conjecture\n",
    "Can every even number greater than 4 be expressed as the sum of two prime numbers?\n",
    "\n",
    "# Twin Primes:\n",
    "11 and 13, 17 and 19, 29 and 31, 41 and 43, 59 and 61, 71 and 73, 101 and 103 ... Do \"twin primes\" (prime numbers that are 2 apart) occur forever? In other words, are there an infinite number of twin primes? Alternately, is there a largest pair of primes, beyond which all prime numbers are by themselves?\n",
    "\n",
    "# Magic Squares\n",
    "|column 1 | column 2 | column 3|\n",
    "|---------|----------|---------|\n",
    "|8|1|6|\n",
    "|3|5|7|\n",
    "|4|9|2|\n",
    "\n",
    "In this 3x3 square, every row and column add to the same number (15 in this case), as do the two diagonals. This is called a \"magic square\". Can a magic square be made using other numbers? Can a magic square be made using only square numbers?\n",
    "\n",
    "# Friendly Numbers\n",
    "The abundancy ratio of a number is the sum of its divisors, divided by the number itself. For example, 4 can be divided by 1, 2, and 4 (a total of 7), so its abundancy ratio is 7/4. Friendly numbers are numbers that share an abundancy ratio.\n",
    "Solitary numbers are numbers that don't have any friends. What friendly numbers can you find? How does the abundancy ratio change as numbers get bigger or smaller (by adding or by multiplication)? Is there any relationship between the abundancy ratio of two numbers and the abundancy ratio of their product? Is 10 friendly or solitary?  \n",
    "(Note that to answer this question properly, you should use the rational numbers class we defined in the previous chapter.)\n",
    "\n",
    "# Singmaster's Conjecture\n",
    "Singmaster's Conjecture deals with Pascal's Triangle. The conjecture (guess) is that there is an upper bound on the number of times any number other than 1 can appear in Pascal's Triangle, and that bound doesn't depend on the number. Is there any number other than 1 that occurs more than 8 times in Pascal's Triangle? Is there a single limit to how many times a number other than 1 can occur in Pascal's Triangle? Does any number occur exactly 5 times in Pascal's Triangle?"
   ]
  },
  {
   "cell_type": "code",
   "execution_count": null,
   "metadata": {},
   "outputs": [],
   "source": []
  }
 ],
 "metadata": {
  "kernelspec": {
   "display_name": "Python 3",
   "language": "python",
   "name": "python3"
  },
  "language_info": {
   "codemirror_mode": {
    "name": "ipython",
    "version": 3
   },
   "file_extension": ".py",
   "mimetype": "text/x-python",
   "name": "python",
   "nbconvert_exporter": "python",
   "pygments_lexer": "ipython3",
   "version": "3.6.9"
  }
 },
 "nbformat": 4,
 "nbformat_minor": 2
}
